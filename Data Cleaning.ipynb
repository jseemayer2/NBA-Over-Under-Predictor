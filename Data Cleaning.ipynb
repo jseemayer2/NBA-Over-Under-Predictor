{
 "cells": [
  {
   "cell_type": "code",
   "execution_count": 1,
   "metadata": {},
   "outputs": [],
   "source": [
    "import os\n",
    "import pickle\n",
    "\n",
    "import numpy as np\n",
    "import pandas as pd\n",
    "import matplotlib.pyplot as plt\n",
    "\n",
    "%matplotlib inline"
   ]
  },
  {
   "cell_type": "markdown",
   "metadata": {},
   "source": [
    "# Usable Code"
   ]
  },
  {
   "cell_type": "code",
   "execution_count": 2,
   "metadata": {},
   "outputs": [
    {
     "name": "stdout",
     "output_type": "stream",
     "text": [
      "/Users/jseemayer/Documents/Me/Metis/NBA-Over-Under-Predictor\r\n"
     ]
    }
   ],
   "source": [
    "!pwd"
   ]
  },
  {
   "cell_type": "code",
   "execution_count": 3,
   "metadata": {},
   "outputs": [],
   "source": [
    "files = sorted([f for f in os.listdir('csv') if '.csv' in f])"
   ]
  },
  {
   "cell_type": "code",
   "execution_count": 4,
   "metadata": {},
   "outputs": [
    {
     "data": {
      "text/plain": [
       "['07-08.csv',\n",
       " '08-09.csv',\n",
       " '09-10.csv',\n",
       " '10-11.csv',\n",
       " '11-12.csv',\n",
       " '12-13.csv',\n",
       " '13-14.csv',\n",
       " '14-15.csv',\n",
       " '15-16.csv',\n",
       " '16-17.csv',\n",
       " '17-18.csv',\n",
       " '18-19.csv']"
      ]
     },
     "execution_count": 4,
     "metadata": {},
     "output_type": "execute_result"
    }
   ],
   "source": [
    "files"
   ]
  },
  {
   "cell_type": "code",
   "execution_count": 5,
   "metadata": {},
   "outputs": [],
   "source": [
    "def clean_odds(file):\n",
    "    '''\n",
    "    cleans csv file and returns dataframe object that contains the over/under lines (target)\n",
    "    '''\n",
    "    df = pd.read_csv(file)\n",
    "    df = df.iloc[:,:13] #some files contained unnamed extra rows\n",
    "    df.dropna(axis=0,inplace=True) #and others columns\n",
    "    \n",
    "    #makes a list of game_id's equivalent to how many games were played that season\n",
    "    mylist = []\n",
    "    for i in range(1, int(df.shape[0]/2 + 1)):\n",
    "        mylist.append(i)\n",
    "        mylist.append(i)\n",
    "    df['game_id'] = mylist #maps game_id's to games (spread across 2 rows)\n",
    "    \n",
    "    df = df.merge(df, on='game_id', suffixes=(None,'_2')) #gets games to be in one row (creates 4/game)\n",
    "    df = df[1::4] #gets correct mapping\n",
    "    df.reset_index(drop=True, inplace=True)\n",
    "    \n",
    "    #make dates include year so we can join with another dataset later\n",
    "    df['Date'] = df['Date'].astype('int')\n",
    "    df['Date'] = df['Date'].astype('str')\n",
    "    #df['Date'] = df['Date'].str.strip('.0')\n",
    "    dates = []\n",
    "    for date in df['Date']:\n",
    "        if int(date) > 1000:\n",
    "            date = '20'+file[:2]+date #GET FILENAMES AND USE HERE\n",
    "            dates.append(date)\n",
    "        else:\n",
    "            date = '20'+file[3:5]+'0'+date #GET FILENAMES AND USE HERE\n",
    "            dates.append(date)\n",
    "    df['Date'] = dates\n",
    "    \n",
    "    #take out pick-em's and replace with zero for later transformation\n",
    "    df['Open'].replace(['PK','pk'],'0',inplace=True)\n",
    "    df['Close'].replace(['PK','pk'],'0',inplace=True)\n",
    "    df['Open_2'].replace(['PK','pk'],'0',inplace=True)\n",
    "    df['Close_2'].replace(['PK','pk'],'0',inplace=True)\n",
    "    df.replace('197.5u10','197.5',inplace=True) #one unique occurrence\n",
    "    #map strings as floats for comparison\n",
    "    df['Open'] = df['Open'].astype('float')\n",
    "    df['Open_2'] = df['Open_2'].astype('float')\n",
    "    df['Close'] = df['Close'].astype('float')\n",
    "    df['Close_2'] = df['Close_2'].astype('float')\n",
    "    #get correct over/under line at opening and closing of sportsbook\n",
    "    df['O/U_open'] = np.where(df['Open'] > df['Open_2'],df['Open'],df['Open_2'])\n",
    "    df['O/U_close'] = np.where(df['Close'] > df['Close_2'],df['Close'],df['Close_2'])\n",
    "    \n",
    "    #rename columns to correct home/visitor \n",
    "    df['Visitor'] = df['Team']\n",
    "    df['Home'] = df['Team_2']\n",
    "    \n",
    "    #add season column\n",
    "    df['Season'] = file[:2] + file[3:5]\n",
    "    \n",
    "    #drop unneeded info\n",
    "    df = df[['Date','Home','Visitor','O/U_open','O/U_close','Season']]\n",
    "    return df"
   ]
  },
  {
   "cell_type": "markdown",
   "metadata": {},
   "source": [
    "Use this clean_odds function to generate our dataset to combine with our scraped game data."
   ]
  },
  {
   "cell_type": "code",
   "execution_count": 6,
   "metadata": {
    "scrolled": false
   },
   "outputs": [
    {
     "name": "stdout",
     "output_type": "stream",
     "text": [
      "/Users/jseemayer/Documents/Me/Metis/NBA-Over-Under-Predictor/csv\n"
     ]
    }
   ],
   "source": [
    "cd csv"
   ]
  },
  {
   "cell_type": "code",
   "execution_count": 7,
   "metadata": {},
   "outputs": [],
   "source": [
    "lines = pd.concat([clean_odds(f) for f in files])"
   ]
  },
  {
   "cell_type": "code",
   "execution_count": 8,
   "metadata": {},
   "outputs": [
    {
     "data": {
      "text/html": [
       "<div>\n",
       "<style scoped>\n",
       "    .dataframe tbody tr th:only-of-type {\n",
       "        vertical-align: middle;\n",
       "    }\n",
       "\n",
       "    .dataframe tbody tr th {\n",
       "        vertical-align: top;\n",
       "    }\n",
       "\n",
       "    .dataframe thead th {\n",
       "        text-align: right;\n",
       "    }\n",
       "</style>\n",
       "<table border=\"1\" class=\"dataframe\">\n",
       "  <thead>\n",
       "    <tr style=\"text-align: right;\">\n",
       "      <th></th>\n",
       "      <th>Date</th>\n",
       "      <th>Home</th>\n",
       "      <th>Visitor</th>\n",
       "      <th>O/U_open</th>\n",
       "      <th>O/U_close</th>\n",
       "      <th>Season</th>\n",
       "    </tr>\n",
       "  </thead>\n",
       "  <tbody>\n",
       "    <tr>\n",
       "      <th>0</th>\n",
       "      <td>20071030</td>\n",
       "      <td>SanAntonio</td>\n",
       "      <td>Portland</td>\n",
       "      <td>184.0</td>\n",
       "      <td>189.5</td>\n",
       "      <td>0708</td>\n",
       "    </tr>\n",
       "    <tr>\n",
       "      <th>1</th>\n",
       "      <td>20071030</td>\n",
       "      <td>GoldenState</td>\n",
       "      <td>Utah</td>\n",
       "      <td>214.5</td>\n",
       "      <td>212.0</td>\n",
       "      <td>0708</td>\n",
       "    </tr>\n",
       "    <tr>\n",
       "      <th>2</th>\n",
       "      <td>20071030</td>\n",
       "      <td>LALakers</td>\n",
       "      <td>Houston</td>\n",
       "      <td>191.0</td>\n",
       "      <td>199.0</td>\n",
       "      <td>0708</td>\n",
       "    </tr>\n",
       "    <tr>\n",
       "      <th>3</th>\n",
       "      <td>20071031</td>\n",
       "      <td>Toronto</td>\n",
       "      <td>Philadelphia</td>\n",
       "      <td>190.0</td>\n",
       "      <td>191.0</td>\n",
       "      <td>0708</td>\n",
       "    </tr>\n",
       "    <tr>\n",
       "      <th>4</th>\n",
       "      <td>20071031</td>\n",
       "      <td>Indiana</td>\n",
       "      <td>Washington</td>\n",
       "      <td>200.0</td>\n",
       "      <td>203.5</td>\n",
       "      <td>0708</td>\n",
       "    </tr>\n",
       "    <tr>\n",
       "      <th>...</th>\n",
       "      <td>...</td>\n",
       "      <td>...</td>\n",
       "      <td>...</td>\n",
       "      <td>...</td>\n",
       "      <td>...</td>\n",
       "      <td>...</td>\n",
       "    </tr>\n",
       "    <tr>\n",
       "      <th>1307</th>\n",
       "      <td>20190602</td>\n",
       "      <td>Toronto</td>\n",
       "      <td>GoldenState</td>\n",
       "      <td>216.0</td>\n",
       "      <td>213.5</td>\n",
       "      <td>1819</td>\n",
       "    </tr>\n",
       "    <tr>\n",
       "      <th>1308</th>\n",
       "      <td>20190605</td>\n",
       "      <td>GoldenState</td>\n",
       "      <td>Toronto</td>\n",
       "      <td>214.0</td>\n",
       "      <td>209.5</td>\n",
       "      <td>1819</td>\n",
       "    </tr>\n",
       "    <tr>\n",
       "      <th>1309</th>\n",
       "      <td>20190607</td>\n",
       "      <td>GoldenState</td>\n",
       "      <td>Toronto</td>\n",
       "      <td>216.0</td>\n",
       "      <td>215.0</td>\n",
       "      <td>1819</td>\n",
       "    </tr>\n",
       "    <tr>\n",
       "      <th>1310</th>\n",
       "      <td>20190610</td>\n",
       "      <td>Toronto</td>\n",
       "      <td>GoldenState</td>\n",
       "      <td>212.0</td>\n",
       "      <td>217.0</td>\n",
       "      <td>1819</td>\n",
       "    </tr>\n",
       "    <tr>\n",
       "      <th>1311</th>\n",
       "      <td>20190613</td>\n",
       "      <td>GoldenState</td>\n",
       "      <td>Toronto</td>\n",
       "      <td>211.0</td>\n",
       "      <td>211.5</td>\n",
       "      <td>1819</td>\n",
       "    </tr>\n",
       "  </tbody>\n",
       "</table>\n",
       "<p>15520 rows × 6 columns</p>\n",
       "</div>"
      ],
      "text/plain": [
       "          Date         Home       Visitor  O/U_open  O/U_close Season\n",
       "0     20071030   SanAntonio      Portland     184.0      189.5   0708\n",
       "1     20071030  GoldenState          Utah     214.5      212.0   0708\n",
       "2     20071030     LALakers       Houston     191.0      199.0   0708\n",
       "3     20071031      Toronto  Philadelphia     190.0      191.0   0708\n",
       "4     20071031      Indiana    Washington     200.0      203.5   0708\n",
       "...        ...          ...           ...       ...        ...    ...\n",
       "1307  20190602      Toronto   GoldenState     216.0      213.5   1819\n",
       "1308  20190605  GoldenState       Toronto     214.0      209.5   1819\n",
       "1309  20190607  GoldenState       Toronto     216.0      215.0   1819\n",
       "1310  20190610      Toronto   GoldenState     212.0      217.0   1819\n",
       "1311  20190613  GoldenState       Toronto     211.0      211.5   1819\n",
       "\n",
       "[15520 rows x 6 columns]"
      ]
     },
     "execution_count": 8,
     "metadata": {},
     "output_type": "execute_result"
    }
   ],
   "source": [
    "lines"
   ]
  },
  {
   "cell_type": "code",
   "execution_count": 9,
   "metadata": {
    "scrolled": false
   },
   "outputs": [
    {
     "data": {
      "text/html": [
       "<div>\n",
       "<style scoped>\n",
       "    .dataframe tbody tr th:only-of-type {\n",
       "        vertical-align: middle;\n",
       "    }\n",
       "\n",
       "    .dataframe tbody tr th {\n",
       "        vertical-align: top;\n",
       "    }\n",
       "\n",
       "    .dataframe thead th {\n",
       "        text-align: right;\n",
       "    }\n",
       "</style>\n",
       "<table border=\"1\" class=\"dataframe\">\n",
       "  <thead>\n",
       "    <tr style=\"text-align: right;\">\n",
       "      <th></th>\n",
       "      <th>Date</th>\n",
       "      <th>Home</th>\n",
       "      <th>Visitor</th>\n",
       "      <th>O/U_open</th>\n",
       "      <th>O/U_close</th>\n",
       "      <th>Season</th>\n",
       "    </tr>\n",
       "  </thead>\n",
       "  <tbody>\n",
       "    <tr>\n",
       "      <th>0</th>\n",
       "      <td>20071030</td>\n",
       "      <td>SanAntonio</td>\n",
       "      <td>Portland</td>\n",
       "      <td>184.0</td>\n",
       "      <td>189.5</td>\n",
       "      <td>0708</td>\n",
       "    </tr>\n",
       "    <tr>\n",
       "      <th>1</th>\n",
       "      <td>20071030</td>\n",
       "      <td>GoldenState</td>\n",
       "      <td>Utah</td>\n",
       "      <td>214.5</td>\n",
       "      <td>212.0</td>\n",
       "      <td>0708</td>\n",
       "    </tr>\n",
       "    <tr>\n",
       "      <th>2</th>\n",
       "      <td>20071030</td>\n",
       "      <td>LALakers</td>\n",
       "      <td>Houston</td>\n",
       "      <td>191.0</td>\n",
       "      <td>199.0</td>\n",
       "      <td>0708</td>\n",
       "    </tr>\n",
       "    <tr>\n",
       "      <th>3</th>\n",
       "      <td>20071031</td>\n",
       "      <td>Toronto</td>\n",
       "      <td>Philadelphia</td>\n",
       "      <td>190.0</td>\n",
       "      <td>191.0</td>\n",
       "      <td>0708</td>\n",
       "    </tr>\n",
       "    <tr>\n",
       "      <th>4</th>\n",
       "      <td>20071031</td>\n",
       "      <td>Indiana</td>\n",
       "      <td>Washington</td>\n",
       "      <td>200.0</td>\n",
       "      <td>203.5</td>\n",
       "      <td>0708</td>\n",
       "    </tr>\n",
       "    <tr>\n",
       "      <th>...</th>\n",
       "      <td>...</td>\n",
       "      <td>...</td>\n",
       "      <td>...</td>\n",
       "      <td>...</td>\n",
       "      <td>...</td>\n",
       "      <td>...</td>\n",
       "    </tr>\n",
       "    <tr>\n",
       "      <th>15515</th>\n",
       "      <td>20190602</td>\n",
       "      <td>Toronto</td>\n",
       "      <td>GoldenState</td>\n",
       "      <td>216.0</td>\n",
       "      <td>213.5</td>\n",
       "      <td>1819</td>\n",
       "    </tr>\n",
       "    <tr>\n",
       "      <th>15516</th>\n",
       "      <td>20190605</td>\n",
       "      <td>GoldenState</td>\n",
       "      <td>Toronto</td>\n",
       "      <td>214.0</td>\n",
       "      <td>209.5</td>\n",
       "      <td>1819</td>\n",
       "    </tr>\n",
       "    <tr>\n",
       "      <th>15517</th>\n",
       "      <td>20190607</td>\n",
       "      <td>GoldenState</td>\n",
       "      <td>Toronto</td>\n",
       "      <td>216.0</td>\n",
       "      <td>215.0</td>\n",
       "      <td>1819</td>\n",
       "    </tr>\n",
       "    <tr>\n",
       "      <th>15518</th>\n",
       "      <td>20190610</td>\n",
       "      <td>Toronto</td>\n",
       "      <td>GoldenState</td>\n",
       "      <td>212.0</td>\n",
       "      <td>217.0</td>\n",
       "      <td>1819</td>\n",
       "    </tr>\n",
       "    <tr>\n",
       "      <th>15519</th>\n",
       "      <td>20190613</td>\n",
       "      <td>GoldenState</td>\n",
       "      <td>Toronto</td>\n",
       "      <td>211.0</td>\n",
       "      <td>211.5</td>\n",
       "      <td>1819</td>\n",
       "    </tr>\n",
       "  </tbody>\n",
       "</table>\n",
       "<p>15520 rows × 6 columns</p>\n",
       "</div>"
      ],
      "text/plain": [
       "           Date         Home       Visitor  O/U_open  O/U_close Season\n",
       "0      20071030   SanAntonio      Portland     184.0      189.5   0708\n",
       "1      20071030  GoldenState          Utah     214.5      212.0   0708\n",
       "2      20071030     LALakers       Houston     191.0      199.0   0708\n",
       "3      20071031      Toronto  Philadelphia     190.0      191.0   0708\n",
       "4      20071031      Indiana    Washington     200.0      203.5   0708\n",
       "...         ...          ...           ...       ...        ...    ...\n",
       "15515  20190602      Toronto   GoldenState     216.0      213.5   1819\n",
       "15516  20190605  GoldenState       Toronto     214.0      209.5   1819\n",
       "15517  20190607  GoldenState       Toronto     216.0      215.0   1819\n",
       "15518  20190610      Toronto   GoldenState     212.0      217.0   1819\n",
       "15519  20190613  GoldenState       Toronto     211.0      211.5   1819\n",
       "\n",
       "[15520 rows x 6 columns]"
      ]
     },
     "execution_count": 9,
     "metadata": {},
     "output_type": "execute_result"
    }
   ],
   "source": [
    "lines.reset_index(drop=True,inplace=True)\n",
    "lines"
   ]
  },
  {
   "cell_type": "markdown",
   "metadata": {},
   "source": [
    "Let's pickle this initial processing of the csv's and subsequent DataFrame. We can always comeback to this if we need it."
   ]
  },
  {
   "cell_type": "code",
   "execution_count": 10,
   "metadata": {},
   "outputs": [],
   "source": [
    "with open('lines.pickle', 'wb') as to_write:\n",
    "    pickle.dump(lines, to_write)"
   ]
  },
  {
   "cell_type": "code",
   "execution_count": 11,
   "metadata": {},
   "outputs": [
    {
     "data": {
      "text/plain": [
       "'/Users/jseemayer/Documents/Me/Metis/NBA-Over-Under-Predictor/csv'"
      ]
     },
     "execution_count": 11,
     "metadata": {},
     "output_type": "execute_result"
    }
   ],
   "source": [
    "pwd"
   ]
  },
  {
   "cell_type": "code",
   "execution_count": 12,
   "metadata": {},
   "outputs": [
    {
     "name": "stdout",
     "output_type": "stream",
     "text": [
      "/Users/jseemayer/Documents/Me/Metis/NBA-Over-Under-Predictor\n"
     ]
    }
   ],
   "source": [
    "cd .."
   ]
  },
  {
   "cell_type": "code",
   "execution_count": 13,
   "metadata": {
    "scrolled": true
   },
   "outputs": [
    {
     "data": {
      "text/html": [
       "<div>\n",
       "<style scoped>\n",
       "    .dataframe tbody tr th:only-of-type {\n",
       "        vertical-align: middle;\n",
       "    }\n",
       "\n",
       "    .dataframe tbody tr th {\n",
       "        vertical-align: top;\n",
       "    }\n",
       "\n",
       "    .dataframe thead th {\n",
       "        text-align: right;\n",
       "    }\n",
       "</style>\n",
       "<table border=\"1\" class=\"dataframe\">\n",
       "  <thead>\n",
       "    <tr style=\"text-align: right;\">\n",
       "      <th></th>\n",
       "      <th>game_id</th>\n",
       "      <th>total</th>\n",
       "      <th>away</th>\n",
       "      <th>home</th>\n",
       "      <th>pace_v</th>\n",
       "      <th>pace_h</th>\n",
       "      <th>eFg_v</th>\n",
       "      <th>eFg_h</th>\n",
       "      <th>tov_v</th>\n",
       "      <th>tov_h</th>\n",
       "      <th>...</th>\n",
       "      <th>ts_per_h</th>\n",
       "      <th>threes_ar_h</th>\n",
       "      <th>ft_ar_h</th>\n",
       "      <th>drb_per_h</th>\n",
       "      <th>trb_per_h</th>\n",
       "      <th>ast_per_h</th>\n",
       "      <th>stl_per_h</th>\n",
       "      <th>blk_per_h</th>\n",
       "      <th>user_per_h</th>\n",
       "      <th>drtg_h</th>\n",
       "    </tr>\n",
       "  </thead>\n",
       "  <tbody>\n",
       "    <tr>\n",
       "      <th>0</th>\n",
       "      <td>200710300SAS</td>\n",
       "      <td>203</td>\n",
       "      <td>POR</td>\n",
       "      <td>SAS</td>\n",
       "      <td>91.8</td>\n",
       "      <td>91.8</td>\n",
       "      <td>.538</td>\n",
       "      <td>.506</td>\n",
       "      <td>15.8</td>\n",
       "      <td>7.5</td>\n",
       "      <td>...</td>\n",
       "      <td>.538</td>\n",
       "      <td>.276</td>\n",
       "      <td>.299</td>\n",
       "      <td>77.8</td>\n",
       "      <td>50.0</td>\n",
       "      <td>51.2</td>\n",
       "      <td>8.7</td>\n",
       "      <td>6.2</td>\n",
       "      <td>100.0</td>\n",
       "      <td>105.7</td>\n",
       "    </tr>\n",
       "    <tr>\n",
       "      <th>1</th>\n",
       "      <td>200710300GSW</td>\n",
       "      <td>213</td>\n",
       "      <td>UTA</td>\n",
       "      <td>GSW</td>\n",
       "      <td>105.1</td>\n",
       "      <td>105.1</td>\n",
       "      <td>.483</td>\n",
       "      <td>.455</td>\n",
       "      <td>15.2</td>\n",
       "      <td>17.6</td>\n",
       "      <td>...</td>\n",
       "      <td>.512</td>\n",
       "      <td>.299</td>\n",
       "      <td>.494</td>\n",
       "      <td>65.2</td>\n",
       "      <td>39.8</td>\n",
       "      <td>59.4</td>\n",
       "      <td>7.6</td>\n",
       "      <td>11.4</td>\n",
       "      <td>100.0</td>\n",
       "      <td>111.3</td>\n",
       "    </tr>\n",
       "    <tr>\n",
       "      <th>2</th>\n",
       "      <td>200710300LAL</td>\n",
       "      <td>188</td>\n",
       "      <td>HOU</td>\n",
       "      <td>LAL</td>\n",
       "      <td>93.0</td>\n",
       "      <td>93.0</td>\n",
       "      <td>.500</td>\n",
       "      <td>.434</td>\n",
       "      <td>17.0</td>\n",
       "      <td>11.1</td>\n",
       "      <td>...</td>\n",
       "      <td>.485</td>\n",
       "      <td>.105</td>\n",
       "      <td>.592</td>\n",
       "      <td>68.4</td>\n",
       "      <td>43.0</td>\n",
       "      <td>56.3</td>\n",
       "      <td>17.2</td>\n",
       "      <td>5.8</td>\n",
       "      <td>100.0</td>\n",
       "      <td>102.1</td>\n",
       "    </tr>\n",
       "    <tr>\n",
       "      <th>3</th>\n",
       "      <td>200710310IND</td>\n",
       "      <td>229</td>\n",
       "      <td>WAS</td>\n",
       "      <td>IND</td>\n",
       "      <td>98.4</td>\n",
       "      <td>98.4</td>\n",
       "      <td>.394</td>\n",
       "      <td>.484</td>\n",
       "      <td>13.2</td>\n",
       "      <td>13.6</td>\n",
       "      <td>...</td>\n",
       "      <td>.552</td>\n",
       "      <td>.315</td>\n",
       "      <td>.391</td>\n",
       "      <td>64.6</td>\n",
       "      <td>50.0</td>\n",
       "      <td>52.6</td>\n",
       "      <td>11.0</td>\n",
       "      <td>7.6</td>\n",
       "      <td>100.0</td>\n",
       "      <td>101.2</td>\n",
       "    </tr>\n",
       "    <tr>\n",
       "      <th>4</th>\n",
       "      <td>200710310ORL</td>\n",
       "      <td>185</td>\n",
       "      <td>MIL</td>\n",
       "      <td>ORL</td>\n",
       "      <td>88.1</td>\n",
       "      <td>88.1</td>\n",
       "      <td>.402</td>\n",
       "      <td>.521</td>\n",
       "      <td>12.6</td>\n",
       "      <td>10.2</td>\n",
       "      <td>...</td>\n",
       "      <td>.577</td>\n",
       "      <td>.301</td>\n",
       "      <td>.479</td>\n",
       "      <td>64.7</td>\n",
       "      <td>46.7</td>\n",
       "      <td>46.9</td>\n",
       "      <td>2.3</td>\n",
       "      <td>12.9</td>\n",
       "      <td>100.0</td>\n",
       "      <td>94.2</td>\n",
       "    </tr>\n",
       "    <tr>\n",
       "      <th>...</th>\n",
       "      <td>...</td>\n",
       "      <td>...</td>\n",
       "      <td>...</td>\n",
       "      <td>...</td>\n",
       "      <td>...</td>\n",
       "      <td>...</td>\n",
       "      <td>...</td>\n",
       "      <td>...</td>\n",
       "      <td>...</td>\n",
       "      <td>...</td>\n",
       "      <td>...</td>\n",
       "      <td>...</td>\n",
       "      <td>...</td>\n",
       "      <td>...</td>\n",
       "      <td>...</td>\n",
       "      <td>...</td>\n",
       "      <td>...</td>\n",
       "      <td>...</td>\n",
       "      <td>...</td>\n",
       "      <td>...</td>\n",
       "      <td>...</td>\n",
       "    </tr>\n",
       "    <tr>\n",
       "      <th>15516</th>\n",
       "      <td>201906020TOR</td>\n",
       "      <td>213</td>\n",
       "      <td>GSW</td>\n",
       "      <td>TOR</td>\n",
       "      <td>100.0</td>\n",
       "      <td>100.0</td>\n",
       "      <td>.543</td>\n",
       "      <td>.431</td>\n",
       "      <td>14.0</td>\n",
       "      <td>12.5</td>\n",
       "      <td>...</td>\n",
       "      <td>.493</td>\n",
       "      <td>.404</td>\n",
       "      <td>.277</td>\n",
       "      <td>85.0</td>\n",
       "      <td>53.8</td>\n",
       "      <td>48.6</td>\n",
       "      <td>8.0</td>\n",
       "      <td>4.2</td>\n",
       "      <td>100.0</td>\n",
       "      <td>109.0</td>\n",
       "    </tr>\n",
       "    <tr>\n",
       "      <th>15517</th>\n",
       "      <td>201906050GSW</td>\n",
       "      <td>232</td>\n",
       "      <td>TOR</td>\n",
       "      <td>GSW</td>\n",
       "      <td>99.6</td>\n",
       "      <td>99.6</td>\n",
       "      <td>.628</td>\n",
       "      <td>.462</td>\n",
       "      <td>13.3</td>\n",
       "      <td>11.8</td>\n",
       "      <td>...</td>\n",
       "      <td>.523</td>\n",
       "      <td>.396</td>\n",
       "      <td>.330</td>\n",
       "      <td>84.8</td>\n",
       "      <td>50.6</td>\n",
       "      <td>69.4</td>\n",
       "      <td>8.0</td>\n",
       "      <td>6.8</td>\n",
       "      <td>100.0</td>\n",
       "      <td>123.5</td>\n",
       "    </tr>\n",
       "    <tr>\n",
       "      <th>15518</th>\n",
       "      <td>201906070GSW</td>\n",
       "      <td>197</td>\n",
       "      <td>TOR</td>\n",
       "      <td>GSW</td>\n",
       "      <td>94.8</td>\n",
       "      <td>94.8</td>\n",
       "      <td>.477</td>\n",
       "      <td>.500</td>\n",
       "      <td>8.5</td>\n",
       "      <td>16.3</td>\n",
       "      <td>...</td>\n",
       "      <td>.527</td>\n",
       "      <td>.346</td>\n",
       "      <td>.269</td>\n",
       "      <td>82.9</td>\n",
       "      <td>51.9</td>\n",
       "      <td>74.3</td>\n",
       "      <td>6.3</td>\n",
       "      <td>11.1</td>\n",
       "      <td>100.0</td>\n",
       "      <td>110.7</td>\n",
       "    </tr>\n",
       "    <tr>\n",
       "      <th>15519</th>\n",
       "      <td>201906100TOR</td>\n",
       "      <td>211</td>\n",
       "      <td>GSW</td>\n",
       "      <td>TOR</td>\n",
       "      <td>94.3</td>\n",
       "      <td>94.3</td>\n",
       "      <td>.585</td>\n",
       "      <td>.494</td>\n",
       "      <td>14.5</td>\n",
       "      <td>11.8</td>\n",
       "      <td>...</td>\n",
       "      <td>.542</td>\n",
       "      <td>.376</td>\n",
       "      <td>.318</td>\n",
       "      <td>83.3</td>\n",
       "      <td>53.8</td>\n",
       "      <td>50.0</td>\n",
       "      <td>6.4</td>\n",
       "      <td>12.5</td>\n",
       "      <td>100.0</td>\n",
       "      <td>112.4</td>\n",
       "    </tr>\n",
       "    <tr>\n",
       "      <th>15520</th>\n",
       "      <td>201906130GSW</td>\n",
       "      <td>224</td>\n",
       "      <td>TOR</td>\n",
       "      <td>GSW</td>\n",
       "      <td>94.6</td>\n",
       "      <td>94.6</td>\n",
       "      <td>.555</td>\n",
       "      <td>.556</td>\n",
       "      <td>11.2</td>\n",
       "      <td>14.7</td>\n",
       "      <td>...</td>\n",
       "      <td>.590</td>\n",
       "      <td>.388</td>\n",
       "      <td>.375</td>\n",
       "      <td>73.8</td>\n",
       "      <td>51.9</td>\n",
       "      <td>71.8</td>\n",
       "      <td>9.5</td>\n",
       "      <td>12.2</td>\n",
       "      <td>100.0</td>\n",
       "      <td>120.5</td>\n",
       "    </tr>\n",
       "  </tbody>\n",
       "</table>\n",
       "<p>15521 rows × 68 columns</p>\n",
       "</div>"
      ],
      "text/plain": [
       "            game_id  total away home pace_v pace_h eFg_v eFg_h tov_v tov_h  \\\n",
       "0      200710300SAS    203  POR  SAS   91.8   91.8  .538  .506  15.8   7.5   \n",
       "1      200710300GSW    213  UTA  GSW  105.1  105.1  .483  .455  15.2  17.6   \n",
       "2      200710300LAL    188  HOU  LAL   93.0   93.0  .500  .434  17.0  11.1   \n",
       "3      200710310IND    229  WAS  IND   98.4   98.4  .394  .484  13.2  13.6   \n",
       "4      200710310ORL    185  MIL  ORL   88.1   88.1  .402  .521  12.6  10.2   \n",
       "...             ...    ...  ...  ...    ...    ...   ...   ...   ...   ...   \n",
       "15516  201906020TOR    213  GSW  TOR  100.0  100.0  .543  .431  14.0  12.5   \n",
       "15517  201906050GSW    232  TOR  GSW   99.6   99.6  .628  .462  13.3  11.8   \n",
       "15518  201906070GSW    197  TOR  GSW   94.8   94.8  .477  .500   8.5  16.3   \n",
       "15519  201906100TOR    211  GSW  TOR   94.3   94.3  .585  .494  14.5  11.8   \n",
       "15520  201906130GSW    224  TOR  GSW   94.6   94.6  .555  .556  11.2  14.7   \n",
       "\n",
       "       ... ts_per_h threes_ar_h ft_ar_h drb_per_h trb_per_h ast_per_h  \\\n",
       "0      ...     .538        .276    .299      77.8      50.0      51.2   \n",
       "1      ...     .512        .299    .494      65.2      39.8      59.4   \n",
       "2      ...     .485        .105    .592      68.4      43.0      56.3   \n",
       "3      ...     .552        .315    .391      64.6      50.0      52.6   \n",
       "4      ...     .577        .301    .479      64.7      46.7      46.9   \n",
       "...    ...      ...         ...     ...       ...       ...       ...   \n",
       "15516  ...     .493        .404    .277      85.0      53.8      48.6   \n",
       "15517  ...     .523        .396    .330      84.8      50.6      69.4   \n",
       "15518  ...     .527        .346    .269      82.9      51.9      74.3   \n",
       "15519  ...     .542        .376    .318      83.3      53.8      50.0   \n",
       "15520  ...     .590        .388    .375      73.8      51.9      71.8   \n",
       "\n",
       "      stl_per_h blk_per_h user_per_h drtg_h  \n",
       "0           8.7       6.2      100.0  105.7  \n",
       "1           7.6      11.4      100.0  111.3  \n",
       "2          17.2       5.8      100.0  102.1  \n",
       "3          11.0       7.6      100.0  101.2  \n",
       "4           2.3      12.9      100.0   94.2  \n",
       "...         ...       ...        ...    ...  \n",
       "15516       8.0       4.2      100.0  109.0  \n",
       "15517       8.0       6.8      100.0  123.5  \n",
       "15518       6.3      11.1      100.0  110.7  \n",
       "15519       6.4      12.5      100.0  112.4  \n",
       "15520       9.5      12.2      100.0  120.5  \n",
       "\n",
       "[15521 rows x 68 columns]"
      ]
     },
     "execution_count": 13,
     "metadata": {},
     "output_type": "execute_result"
    }
   ],
   "source": [
    "with open('game_df.pickle','rb') as read_file:\n",
    "    game_df = pickle.load(read_file)\n",
    "    \n",
    "game_df"
   ]
  },
  {
   "cell_type": "code",
   "execution_count": 14,
   "metadata": {},
   "outputs": [
    {
     "data": {
      "text/plain": [
       "array(['SAS', 'GSW', 'LAL', 'IND', 'ORL', 'TOR', 'NJN', 'CLE', 'MEM',\n",
       "       'NOH', 'DEN', 'MIA', 'UTA', 'SEA', 'CHA', 'ATL', 'BOS', 'MIN',\n",
       "       'CHI', 'LAC', 'PHO', 'PHI', 'WAS', 'DAL', 'HOU', 'MIL', 'NYK',\n",
       "       'DET', 'SAC', 'POR', 'OKC', 'BRK', 'NOP', 'CHO'], dtype=object)"
      ]
     },
     "execution_count": 14,
     "metadata": {},
     "output_type": "execute_result"
    }
   ],
   "source": [
    "team_abbrev = game_df['home'].unique()\n",
    "team_abbrev"
   ]
  },
  {
   "cell_type": "code",
   "execution_count": 15,
   "metadata": {},
   "outputs": [
    {
     "data": {
      "text/plain": [
       "34"
      ]
     },
     "execution_count": 15,
     "metadata": {},
     "output_type": "execute_result"
    }
   ],
   "source": [
    "len(team_abbrev)"
   ]
  },
  {
   "cell_type": "code",
   "execution_count": 16,
   "metadata": {},
   "outputs": [
    {
     "data": {
      "text/plain": [
       "array(['SanAntonio', 'GoldenState', 'LALakers', 'Toronto', 'Indiana',\n",
       "       'Orlando', 'NewJersey', 'Cleveland', 'Memphis', 'NewOrleans',\n",
       "       'Denver', 'Miami', 'Utah', 'Seattle', 'Charlotte', 'Atlanta',\n",
       "       'Boston', 'Minnesota', 'Chicago', 'Phoenix', 'LAClippers',\n",
       "       'Philadelphia', 'Washington', 'Milwaukee', 'Houston', 'Dallas',\n",
       "       'NewYork', 'Detroit', 'Sacramento', 'Portland', 'OklahomaCity',\n",
       "       'Brooklyn'], dtype=object)"
      ]
     },
     "execution_count": 16,
     "metadata": {},
     "output_type": "execute_result"
    }
   ],
   "source": [
    "lines['Home'].unique()"
   ]
  },
  {
   "cell_type": "code",
   "execution_count": 17,
   "metadata": {},
   "outputs": [],
   "source": [
    "team_dict = {\n",
    "    'SAS': 'SanAntonio',\n",
    "    'GSW': 'GoldenState',\n",
    "    'LAL': 'LALakers',\n",
    "    'TOR': 'Toronto',\n",
    "    'IND': 'Indiana',\n",
    "    'ORL': 'Orlando',\n",
    "    'NJN': 'NewJersey',\n",
    "    'CLE': 'Cleveland',\n",
    "    'MEM': 'Memphis',\n",
    "    'NOH': 'NewOrleans',\n",
    "    'NOP': 'NewOrleans',\n",
    "    'DEN': 'Denver',\n",
    "    'MIA': 'Miami',\n",
    "    'UTA': 'Utah',\n",
    "    'SEA': 'Seattle',\n",
    "    'CHA': 'Charlotte',\n",
    "    'CHO': 'Charlotte',\n",
    "    'ATL': 'Atlanta',\n",
    "    'BOS': 'Boston',\n",
    "    'MIN': 'Minnesota',\n",
    "    'CHI': 'Chicago',\n",
    "    'PHO': 'Phoenix',\n",
    "    'LAC': 'LAClippers',\n",
    "    'PHI': 'Philadelphia',\n",
    "    'WAS': 'Washington',\n",
    "    'MIL': 'Milwaukee',\n",
    "    'HOU': 'Houston',\n",
    "    'DAL': 'Dallas',\n",
    "    'NYK': 'NewYork',\n",
    "    'DET': 'Detroit',\n",
    "    'SAC': 'Sacramento',\n",
    "    'POR': 'Portland',\n",
    "    'OKC': 'OklahomaCity',\n",
    "    'BRK': 'Brooklyn'\n",
    "}"
   ]
  },
  {
   "cell_type": "code",
   "execution_count": 18,
   "metadata": {},
   "outputs": [
    {
     "data": {
      "text/plain": [
       "0         SanAntonio\n",
       "1        GoldenState\n",
       "2           LALakers\n",
       "3            Indiana\n",
       "4            Orlando\n",
       "            ...     \n",
       "15516        Toronto\n",
       "15517    GoldenState\n",
       "15518    GoldenState\n",
       "15519        Toronto\n",
       "15520    GoldenState\n",
       "Name: home, Length: 15521, dtype: object"
      ]
     },
     "execution_count": 18,
     "metadata": {},
     "output_type": "execute_result"
    }
   ],
   "source": [
    "game_df['home'].map(team_dict)"
   ]
  },
  {
   "cell_type": "code",
   "execution_count": 19,
   "metadata": {},
   "outputs": [],
   "source": [
    "game_df['home_team'] = game_df['home'].map(team_dict)"
   ]
  },
  {
   "cell_type": "code",
   "execution_count": 20,
   "metadata": {
    "scrolled": true
   },
   "outputs": [
    {
     "data": {
      "text/html": [
       "<div>\n",
       "<style scoped>\n",
       "    .dataframe tbody tr th:only-of-type {\n",
       "        vertical-align: middle;\n",
       "    }\n",
       "\n",
       "    .dataframe tbody tr th {\n",
       "        vertical-align: top;\n",
       "    }\n",
       "\n",
       "    .dataframe thead th {\n",
       "        text-align: right;\n",
       "    }\n",
       "</style>\n",
       "<table border=\"1\" class=\"dataframe\">\n",
       "  <thead>\n",
       "    <tr style=\"text-align: right;\">\n",
       "      <th></th>\n",
       "      <th>game_id</th>\n",
       "      <th>total</th>\n",
       "      <th>away</th>\n",
       "      <th>home</th>\n",
       "      <th>pace_v</th>\n",
       "      <th>pace_h</th>\n",
       "      <th>eFg_v</th>\n",
       "      <th>eFg_h</th>\n",
       "      <th>tov_v</th>\n",
       "      <th>tov_h</th>\n",
       "      <th>...</th>\n",
       "      <th>threes_ar_h</th>\n",
       "      <th>ft_ar_h</th>\n",
       "      <th>drb_per_h</th>\n",
       "      <th>trb_per_h</th>\n",
       "      <th>ast_per_h</th>\n",
       "      <th>stl_per_h</th>\n",
       "      <th>blk_per_h</th>\n",
       "      <th>user_per_h</th>\n",
       "      <th>drtg_h</th>\n",
       "      <th>home_team</th>\n",
       "    </tr>\n",
       "  </thead>\n",
       "  <tbody>\n",
       "    <tr>\n",
       "      <th>0</th>\n",
       "      <td>200710300SAS</td>\n",
       "      <td>203</td>\n",
       "      <td>POR</td>\n",
       "      <td>SAS</td>\n",
       "      <td>91.8</td>\n",
       "      <td>91.8</td>\n",
       "      <td>.538</td>\n",
       "      <td>.506</td>\n",
       "      <td>15.8</td>\n",
       "      <td>7.5</td>\n",
       "      <td>...</td>\n",
       "      <td>.276</td>\n",
       "      <td>.299</td>\n",
       "      <td>77.8</td>\n",
       "      <td>50.0</td>\n",
       "      <td>51.2</td>\n",
       "      <td>8.7</td>\n",
       "      <td>6.2</td>\n",
       "      <td>100.0</td>\n",
       "      <td>105.7</td>\n",
       "      <td>SanAntonio</td>\n",
       "    </tr>\n",
       "    <tr>\n",
       "      <th>1</th>\n",
       "      <td>200710300GSW</td>\n",
       "      <td>213</td>\n",
       "      <td>UTA</td>\n",
       "      <td>GSW</td>\n",
       "      <td>105.1</td>\n",
       "      <td>105.1</td>\n",
       "      <td>.483</td>\n",
       "      <td>.455</td>\n",
       "      <td>15.2</td>\n",
       "      <td>17.6</td>\n",
       "      <td>...</td>\n",
       "      <td>.299</td>\n",
       "      <td>.494</td>\n",
       "      <td>65.2</td>\n",
       "      <td>39.8</td>\n",
       "      <td>59.4</td>\n",
       "      <td>7.6</td>\n",
       "      <td>11.4</td>\n",
       "      <td>100.0</td>\n",
       "      <td>111.3</td>\n",
       "      <td>GoldenState</td>\n",
       "    </tr>\n",
       "    <tr>\n",
       "      <th>2</th>\n",
       "      <td>200710300LAL</td>\n",
       "      <td>188</td>\n",
       "      <td>HOU</td>\n",
       "      <td>LAL</td>\n",
       "      <td>93.0</td>\n",
       "      <td>93.0</td>\n",
       "      <td>.500</td>\n",
       "      <td>.434</td>\n",
       "      <td>17.0</td>\n",
       "      <td>11.1</td>\n",
       "      <td>...</td>\n",
       "      <td>.105</td>\n",
       "      <td>.592</td>\n",
       "      <td>68.4</td>\n",
       "      <td>43.0</td>\n",
       "      <td>56.3</td>\n",
       "      <td>17.2</td>\n",
       "      <td>5.8</td>\n",
       "      <td>100.0</td>\n",
       "      <td>102.1</td>\n",
       "      <td>LALakers</td>\n",
       "    </tr>\n",
       "    <tr>\n",
       "      <th>3</th>\n",
       "      <td>200710310IND</td>\n",
       "      <td>229</td>\n",
       "      <td>WAS</td>\n",
       "      <td>IND</td>\n",
       "      <td>98.4</td>\n",
       "      <td>98.4</td>\n",
       "      <td>.394</td>\n",
       "      <td>.484</td>\n",
       "      <td>13.2</td>\n",
       "      <td>13.6</td>\n",
       "      <td>...</td>\n",
       "      <td>.315</td>\n",
       "      <td>.391</td>\n",
       "      <td>64.6</td>\n",
       "      <td>50.0</td>\n",
       "      <td>52.6</td>\n",
       "      <td>11.0</td>\n",
       "      <td>7.6</td>\n",
       "      <td>100.0</td>\n",
       "      <td>101.2</td>\n",
       "      <td>Indiana</td>\n",
       "    </tr>\n",
       "    <tr>\n",
       "      <th>4</th>\n",
       "      <td>200710310ORL</td>\n",
       "      <td>185</td>\n",
       "      <td>MIL</td>\n",
       "      <td>ORL</td>\n",
       "      <td>88.1</td>\n",
       "      <td>88.1</td>\n",
       "      <td>.402</td>\n",
       "      <td>.521</td>\n",
       "      <td>12.6</td>\n",
       "      <td>10.2</td>\n",
       "      <td>...</td>\n",
       "      <td>.301</td>\n",
       "      <td>.479</td>\n",
       "      <td>64.7</td>\n",
       "      <td>46.7</td>\n",
       "      <td>46.9</td>\n",
       "      <td>2.3</td>\n",
       "      <td>12.9</td>\n",
       "      <td>100.0</td>\n",
       "      <td>94.2</td>\n",
       "      <td>Orlando</td>\n",
       "    </tr>\n",
       "    <tr>\n",
       "      <th>...</th>\n",
       "      <td>...</td>\n",
       "      <td>...</td>\n",
       "      <td>...</td>\n",
       "      <td>...</td>\n",
       "      <td>...</td>\n",
       "      <td>...</td>\n",
       "      <td>...</td>\n",
       "      <td>...</td>\n",
       "      <td>...</td>\n",
       "      <td>...</td>\n",
       "      <td>...</td>\n",
       "      <td>...</td>\n",
       "      <td>...</td>\n",
       "      <td>...</td>\n",
       "      <td>...</td>\n",
       "      <td>...</td>\n",
       "      <td>...</td>\n",
       "      <td>...</td>\n",
       "      <td>...</td>\n",
       "      <td>...</td>\n",
       "      <td>...</td>\n",
       "    </tr>\n",
       "    <tr>\n",
       "      <th>15516</th>\n",
       "      <td>201906020TOR</td>\n",
       "      <td>213</td>\n",
       "      <td>GSW</td>\n",
       "      <td>TOR</td>\n",
       "      <td>100.0</td>\n",
       "      <td>100.0</td>\n",
       "      <td>.543</td>\n",
       "      <td>.431</td>\n",
       "      <td>14.0</td>\n",
       "      <td>12.5</td>\n",
       "      <td>...</td>\n",
       "      <td>.404</td>\n",
       "      <td>.277</td>\n",
       "      <td>85.0</td>\n",
       "      <td>53.8</td>\n",
       "      <td>48.6</td>\n",
       "      <td>8.0</td>\n",
       "      <td>4.2</td>\n",
       "      <td>100.0</td>\n",
       "      <td>109.0</td>\n",
       "      <td>Toronto</td>\n",
       "    </tr>\n",
       "    <tr>\n",
       "      <th>15517</th>\n",
       "      <td>201906050GSW</td>\n",
       "      <td>232</td>\n",
       "      <td>TOR</td>\n",
       "      <td>GSW</td>\n",
       "      <td>99.6</td>\n",
       "      <td>99.6</td>\n",
       "      <td>.628</td>\n",
       "      <td>.462</td>\n",
       "      <td>13.3</td>\n",
       "      <td>11.8</td>\n",
       "      <td>...</td>\n",
       "      <td>.396</td>\n",
       "      <td>.330</td>\n",
       "      <td>84.8</td>\n",
       "      <td>50.6</td>\n",
       "      <td>69.4</td>\n",
       "      <td>8.0</td>\n",
       "      <td>6.8</td>\n",
       "      <td>100.0</td>\n",
       "      <td>123.5</td>\n",
       "      <td>GoldenState</td>\n",
       "    </tr>\n",
       "    <tr>\n",
       "      <th>15518</th>\n",
       "      <td>201906070GSW</td>\n",
       "      <td>197</td>\n",
       "      <td>TOR</td>\n",
       "      <td>GSW</td>\n",
       "      <td>94.8</td>\n",
       "      <td>94.8</td>\n",
       "      <td>.477</td>\n",
       "      <td>.500</td>\n",
       "      <td>8.5</td>\n",
       "      <td>16.3</td>\n",
       "      <td>...</td>\n",
       "      <td>.346</td>\n",
       "      <td>.269</td>\n",
       "      <td>82.9</td>\n",
       "      <td>51.9</td>\n",
       "      <td>74.3</td>\n",
       "      <td>6.3</td>\n",
       "      <td>11.1</td>\n",
       "      <td>100.0</td>\n",
       "      <td>110.7</td>\n",
       "      <td>GoldenState</td>\n",
       "    </tr>\n",
       "    <tr>\n",
       "      <th>15519</th>\n",
       "      <td>201906100TOR</td>\n",
       "      <td>211</td>\n",
       "      <td>GSW</td>\n",
       "      <td>TOR</td>\n",
       "      <td>94.3</td>\n",
       "      <td>94.3</td>\n",
       "      <td>.585</td>\n",
       "      <td>.494</td>\n",
       "      <td>14.5</td>\n",
       "      <td>11.8</td>\n",
       "      <td>...</td>\n",
       "      <td>.376</td>\n",
       "      <td>.318</td>\n",
       "      <td>83.3</td>\n",
       "      <td>53.8</td>\n",
       "      <td>50.0</td>\n",
       "      <td>6.4</td>\n",
       "      <td>12.5</td>\n",
       "      <td>100.0</td>\n",
       "      <td>112.4</td>\n",
       "      <td>Toronto</td>\n",
       "    </tr>\n",
       "    <tr>\n",
       "      <th>15520</th>\n",
       "      <td>201906130GSW</td>\n",
       "      <td>224</td>\n",
       "      <td>TOR</td>\n",
       "      <td>GSW</td>\n",
       "      <td>94.6</td>\n",
       "      <td>94.6</td>\n",
       "      <td>.555</td>\n",
       "      <td>.556</td>\n",
       "      <td>11.2</td>\n",
       "      <td>14.7</td>\n",
       "      <td>...</td>\n",
       "      <td>.388</td>\n",
       "      <td>.375</td>\n",
       "      <td>73.8</td>\n",
       "      <td>51.9</td>\n",
       "      <td>71.8</td>\n",
       "      <td>9.5</td>\n",
       "      <td>12.2</td>\n",
       "      <td>100.0</td>\n",
       "      <td>120.5</td>\n",
       "      <td>GoldenState</td>\n",
       "    </tr>\n",
       "  </tbody>\n",
       "</table>\n",
       "<p>15521 rows × 69 columns</p>\n",
       "</div>"
      ],
      "text/plain": [
       "            game_id  total away home pace_v pace_h eFg_v eFg_h tov_v tov_h  \\\n",
       "0      200710300SAS    203  POR  SAS   91.8   91.8  .538  .506  15.8   7.5   \n",
       "1      200710300GSW    213  UTA  GSW  105.1  105.1  .483  .455  15.2  17.6   \n",
       "2      200710300LAL    188  HOU  LAL   93.0   93.0  .500  .434  17.0  11.1   \n",
       "3      200710310IND    229  WAS  IND   98.4   98.4  .394  .484  13.2  13.6   \n",
       "4      200710310ORL    185  MIL  ORL   88.1   88.1  .402  .521  12.6  10.2   \n",
       "...             ...    ...  ...  ...    ...    ...   ...   ...   ...   ...   \n",
       "15516  201906020TOR    213  GSW  TOR  100.0  100.0  .543  .431  14.0  12.5   \n",
       "15517  201906050GSW    232  TOR  GSW   99.6   99.6  .628  .462  13.3  11.8   \n",
       "15518  201906070GSW    197  TOR  GSW   94.8   94.8  .477  .500   8.5  16.3   \n",
       "15519  201906100TOR    211  GSW  TOR   94.3   94.3  .585  .494  14.5  11.8   \n",
       "15520  201906130GSW    224  TOR  GSW   94.6   94.6  .555  .556  11.2  14.7   \n",
       "\n",
       "       ... threes_ar_h ft_ar_h drb_per_h trb_per_h ast_per_h stl_per_h  \\\n",
       "0      ...        .276    .299      77.8      50.0      51.2       8.7   \n",
       "1      ...        .299    .494      65.2      39.8      59.4       7.6   \n",
       "2      ...        .105    .592      68.4      43.0      56.3      17.2   \n",
       "3      ...        .315    .391      64.6      50.0      52.6      11.0   \n",
       "4      ...        .301    .479      64.7      46.7      46.9       2.3   \n",
       "...    ...         ...     ...       ...       ...       ...       ...   \n",
       "15516  ...        .404    .277      85.0      53.8      48.6       8.0   \n",
       "15517  ...        .396    .330      84.8      50.6      69.4       8.0   \n",
       "15518  ...        .346    .269      82.9      51.9      74.3       6.3   \n",
       "15519  ...        .376    .318      83.3      53.8      50.0       6.4   \n",
       "15520  ...        .388    .375      73.8      51.9      71.8       9.5   \n",
       "\n",
       "      blk_per_h user_per_h drtg_h    home_team  \n",
       "0           6.2      100.0  105.7   SanAntonio  \n",
       "1          11.4      100.0  111.3  GoldenState  \n",
       "2           5.8      100.0  102.1     LALakers  \n",
       "3           7.6      100.0  101.2      Indiana  \n",
       "4          12.9      100.0   94.2      Orlando  \n",
       "...         ...        ...    ...          ...  \n",
       "15516       4.2      100.0  109.0      Toronto  \n",
       "15517       6.8      100.0  123.5  GoldenState  \n",
       "15518      11.1      100.0  110.7  GoldenState  \n",
       "15519      12.5      100.0  112.4      Toronto  \n",
       "15520      12.2      100.0  120.5  GoldenState  \n",
       "\n",
       "[15521 rows x 69 columns]"
      ]
     },
     "execution_count": 20,
     "metadata": {},
     "output_type": "execute_result"
    }
   ],
   "source": [
    "game_df"
   ]
  },
  {
   "cell_type": "code",
   "execution_count": 21,
   "metadata": {},
   "outputs": [],
   "source": [
    "game_df['game_date'] = game_df['game_id'].apply(lambda x: x[:8])"
   ]
  },
  {
   "cell_type": "code",
   "execution_count": 22,
   "metadata": {},
   "outputs": [
    {
     "data": {
      "text/html": [
       "<div>\n",
       "<style scoped>\n",
       "    .dataframe tbody tr th:only-of-type {\n",
       "        vertical-align: middle;\n",
       "    }\n",
       "\n",
       "    .dataframe tbody tr th {\n",
       "        vertical-align: top;\n",
       "    }\n",
       "\n",
       "    .dataframe thead th {\n",
       "        text-align: right;\n",
       "    }\n",
       "</style>\n",
       "<table border=\"1\" class=\"dataframe\">\n",
       "  <thead>\n",
       "    <tr style=\"text-align: right;\">\n",
       "      <th></th>\n",
       "      <th>game_id</th>\n",
       "      <th>total</th>\n",
       "      <th>away</th>\n",
       "      <th>home</th>\n",
       "      <th>pace_v</th>\n",
       "      <th>pace_h</th>\n",
       "      <th>eFg_v</th>\n",
       "      <th>eFg_h</th>\n",
       "      <th>tov_v</th>\n",
       "      <th>tov_h</th>\n",
       "      <th>...</th>\n",
       "      <th>ft_ar_h</th>\n",
       "      <th>drb_per_h</th>\n",
       "      <th>trb_per_h</th>\n",
       "      <th>ast_per_h</th>\n",
       "      <th>stl_per_h</th>\n",
       "      <th>blk_per_h</th>\n",
       "      <th>user_per_h</th>\n",
       "      <th>drtg_h</th>\n",
       "      <th>home_team</th>\n",
       "      <th>game_date</th>\n",
       "    </tr>\n",
       "  </thead>\n",
       "  <tbody>\n",
       "    <tr>\n",
       "      <th>0</th>\n",
       "      <td>200710300SAS</td>\n",
       "      <td>203</td>\n",
       "      <td>POR</td>\n",
       "      <td>SAS</td>\n",
       "      <td>91.8</td>\n",
       "      <td>91.8</td>\n",
       "      <td>.538</td>\n",
       "      <td>.506</td>\n",
       "      <td>15.8</td>\n",
       "      <td>7.5</td>\n",
       "      <td>...</td>\n",
       "      <td>.299</td>\n",
       "      <td>77.8</td>\n",
       "      <td>50.0</td>\n",
       "      <td>51.2</td>\n",
       "      <td>8.7</td>\n",
       "      <td>6.2</td>\n",
       "      <td>100.0</td>\n",
       "      <td>105.7</td>\n",
       "      <td>SanAntonio</td>\n",
       "      <td>20071030</td>\n",
       "    </tr>\n",
       "    <tr>\n",
       "      <th>1</th>\n",
       "      <td>200710300GSW</td>\n",
       "      <td>213</td>\n",
       "      <td>UTA</td>\n",
       "      <td>GSW</td>\n",
       "      <td>105.1</td>\n",
       "      <td>105.1</td>\n",
       "      <td>.483</td>\n",
       "      <td>.455</td>\n",
       "      <td>15.2</td>\n",
       "      <td>17.6</td>\n",
       "      <td>...</td>\n",
       "      <td>.494</td>\n",
       "      <td>65.2</td>\n",
       "      <td>39.8</td>\n",
       "      <td>59.4</td>\n",
       "      <td>7.6</td>\n",
       "      <td>11.4</td>\n",
       "      <td>100.0</td>\n",
       "      <td>111.3</td>\n",
       "      <td>GoldenState</td>\n",
       "      <td>20071030</td>\n",
       "    </tr>\n",
       "    <tr>\n",
       "      <th>2</th>\n",
       "      <td>200710300LAL</td>\n",
       "      <td>188</td>\n",
       "      <td>HOU</td>\n",
       "      <td>LAL</td>\n",
       "      <td>93.0</td>\n",
       "      <td>93.0</td>\n",
       "      <td>.500</td>\n",
       "      <td>.434</td>\n",
       "      <td>17.0</td>\n",
       "      <td>11.1</td>\n",
       "      <td>...</td>\n",
       "      <td>.592</td>\n",
       "      <td>68.4</td>\n",
       "      <td>43.0</td>\n",
       "      <td>56.3</td>\n",
       "      <td>17.2</td>\n",
       "      <td>5.8</td>\n",
       "      <td>100.0</td>\n",
       "      <td>102.1</td>\n",
       "      <td>LALakers</td>\n",
       "      <td>20071030</td>\n",
       "    </tr>\n",
       "    <tr>\n",
       "      <th>3</th>\n",
       "      <td>200710310IND</td>\n",
       "      <td>229</td>\n",
       "      <td>WAS</td>\n",
       "      <td>IND</td>\n",
       "      <td>98.4</td>\n",
       "      <td>98.4</td>\n",
       "      <td>.394</td>\n",
       "      <td>.484</td>\n",
       "      <td>13.2</td>\n",
       "      <td>13.6</td>\n",
       "      <td>...</td>\n",
       "      <td>.391</td>\n",
       "      <td>64.6</td>\n",
       "      <td>50.0</td>\n",
       "      <td>52.6</td>\n",
       "      <td>11.0</td>\n",
       "      <td>7.6</td>\n",
       "      <td>100.0</td>\n",
       "      <td>101.2</td>\n",
       "      <td>Indiana</td>\n",
       "      <td>20071031</td>\n",
       "    </tr>\n",
       "    <tr>\n",
       "      <th>4</th>\n",
       "      <td>200710310ORL</td>\n",
       "      <td>185</td>\n",
       "      <td>MIL</td>\n",
       "      <td>ORL</td>\n",
       "      <td>88.1</td>\n",
       "      <td>88.1</td>\n",
       "      <td>.402</td>\n",
       "      <td>.521</td>\n",
       "      <td>12.6</td>\n",
       "      <td>10.2</td>\n",
       "      <td>...</td>\n",
       "      <td>.479</td>\n",
       "      <td>64.7</td>\n",
       "      <td>46.7</td>\n",
       "      <td>46.9</td>\n",
       "      <td>2.3</td>\n",
       "      <td>12.9</td>\n",
       "      <td>100.0</td>\n",
       "      <td>94.2</td>\n",
       "      <td>Orlando</td>\n",
       "      <td>20071031</td>\n",
       "    </tr>\n",
       "    <tr>\n",
       "      <th>...</th>\n",
       "      <td>...</td>\n",
       "      <td>...</td>\n",
       "      <td>...</td>\n",
       "      <td>...</td>\n",
       "      <td>...</td>\n",
       "      <td>...</td>\n",
       "      <td>...</td>\n",
       "      <td>...</td>\n",
       "      <td>...</td>\n",
       "      <td>...</td>\n",
       "      <td>...</td>\n",
       "      <td>...</td>\n",
       "      <td>...</td>\n",
       "      <td>...</td>\n",
       "      <td>...</td>\n",
       "      <td>...</td>\n",
       "      <td>...</td>\n",
       "      <td>...</td>\n",
       "      <td>...</td>\n",
       "      <td>...</td>\n",
       "      <td>...</td>\n",
       "    </tr>\n",
       "    <tr>\n",
       "      <th>15516</th>\n",
       "      <td>201906020TOR</td>\n",
       "      <td>213</td>\n",
       "      <td>GSW</td>\n",
       "      <td>TOR</td>\n",
       "      <td>100.0</td>\n",
       "      <td>100.0</td>\n",
       "      <td>.543</td>\n",
       "      <td>.431</td>\n",
       "      <td>14.0</td>\n",
       "      <td>12.5</td>\n",
       "      <td>...</td>\n",
       "      <td>.277</td>\n",
       "      <td>85.0</td>\n",
       "      <td>53.8</td>\n",
       "      <td>48.6</td>\n",
       "      <td>8.0</td>\n",
       "      <td>4.2</td>\n",
       "      <td>100.0</td>\n",
       "      <td>109.0</td>\n",
       "      <td>Toronto</td>\n",
       "      <td>20190602</td>\n",
       "    </tr>\n",
       "    <tr>\n",
       "      <th>15517</th>\n",
       "      <td>201906050GSW</td>\n",
       "      <td>232</td>\n",
       "      <td>TOR</td>\n",
       "      <td>GSW</td>\n",
       "      <td>99.6</td>\n",
       "      <td>99.6</td>\n",
       "      <td>.628</td>\n",
       "      <td>.462</td>\n",
       "      <td>13.3</td>\n",
       "      <td>11.8</td>\n",
       "      <td>...</td>\n",
       "      <td>.330</td>\n",
       "      <td>84.8</td>\n",
       "      <td>50.6</td>\n",
       "      <td>69.4</td>\n",
       "      <td>8.0</td>\n",
       "      <td>6.8</td>\n",
       "      <td>100.0</td>\n",
       "      <td>123.5</td>\n",
       "      <td>GoldenState</td>\n",
       "      <td>20190605</td>\n",
       "    </tr>\n",
       "    <tr>\n",
       "      <th>15518</th>\n",
       "      <td>201906070GSW</td>\n",
       "      <td>197</td>\n",
       "      <td>TOR</td>\n",
       "      <td>GSW</td>\n",
       "      <td>94.8</td>\n",
       "      <td>94.8</td>\n",
       "      <td>.477</td>\n",
       "      <td>.500</td>\n",
       "      <td>8.5</td>\n",
       "      <td>16.3</td>\n",
       "      <td>...</td>\n",
       "      <td>.269</td>\n",
       "      <td>82.9</td>\n",
       "      <td>51.9</td>\n",
       "      <td>74.3</td>\n",
       "      <td>6.3</td>\n",
       "      <td>11.1</td>\n",
       "      <td>100.0</td>\n",
       "      <td>110.7</td>\n",
       "      <td>GoldenState</td>\n",
       "      <td>20190607</td>\n",
       "    </tr>\n",
       "    <tr>\n",
       "      <th>15519</th>\n",
       "      <td>201906100TOR</td>\n",
       "      <td>211</td>\n",
       "      <td>GSW</td>\n",
       "      <td>TOR</td>\n",
       "      <td>94.3</td>\n",
       "      <td>94.3</td>\n",
       "      <td>.585</td>\n",
       "      <td>.494</td>\n",
       "      <td>14.5</td>\n",
       "      <td>11.8</td>\n",
       "      <td>...</td>\n",
       "      <td>.318</td>\n",
       "      <td>83.3</td>\n",
       "      <td>53.8</td>\n",
       "      <td>50.0</td>\n",
       "      <td>6.4</td>\n",
       "      <td>12.5</td>\n",
       "      <td>100.0</td>\n",
       "      <td>112.4</td>\n",
       "      <td>Toronto</td>\n",
       "      <td>20190610</td>\n",
       "    </tr>\n",
       "    <tr>\n",
       "      <th>15520</th>\n",
       "      <td>201906130GSW</td>\n",
       "      <td>224</td>\n",
       "      <td>TOR</td>\n",
       "      <td>GSW</td>\n",
       "      <td>94.6</td>\n",
       "      <td>94.6</td>\n",
       "      <td>.555</td>\n",
       "      <td>.556</td>\n",
       "      <td>11.2</td>\n",
       "      <td>14.7</td>\n",
       "      <td>...</td>\n",
       "      <td>.375</td>\n",
       "      <td>73.8</td>\n",
       "      <td>51.9</td>\n",
       "      <td>71.8</td>\n",
       "      <td>9.5</td>\n",
       "      <td>12.2</td>\n",
       "      <td>100.0</td>\n",
       "      <td>120.5</td>\n",
       "      <td>GoldenState</td>\n",
       "      <td>20190613</td>\n",
       "    </tr>\n",
       "  </tbody>\n",
       "</table>\n",
       "<p>15521 rows × 70 columns</p>\n",
       "</div>"
      ],
      "text/plain": [
       "            game_id  total away home pace_v pace_h eFg_v eFg_h tov_v tov_h  \\\n",
       "0      200710300SAS    203  POR  SAS   91.8   91.8  .538  .506  15.8   7.5   \n",
       "1      200710300GSW    213  UTA  GSW  105.1  105.1  .483  .455  15.2  17.6   \n",
       "2      200710300LAL    188  HOU  LAL   93.0   93.0  .500  .434  17.0  11.1   \n",
       "3      200710310IND    229  WAS  IND   98.4   98.4  .394  .484  13.2  13.6   \n",
       "4      200710310ORL    185  MIL  ORL   88.1   88.1  .402  .521  12.6  10.2   \n",
       "...             ...    ...  ...  ...    ...    ...   ...   ...   ...   ...   \n",
       "15516  201906020TOR    213  GSW  TOR  100.0  100.0  .543  .431  14.0  12.5   \n",
       "15517  201906050GSW    232  TOR  GSW   99.6   99.6  .628  .462  13.3  11.8   \n",
       "15518  201906070GSW    197  TOR  GSW   94.8   94.8  .477  .500   8.5  16.3   \n",
       "15519  201906100TOR    211  GSW  TOR   94.3   94.3  .585  .494  14.5  11.8   \n",
       "15520  201906130GSW    224  TOR  GSW   94.6   94.6  .555  .556  11.2  14.7   \n",
       "\n",
       "       ... ft_ar_h drb_per_h trb_per_h ast_per_h stl_per_h blk_per_h  \\\n",
       "0      ...    .299      77.8      50.0      51.2       8.7       6.2   \n",
       "1      ...    .494      65.2      39.8      59.4       7.6      11.4   \n",
       "2      ...    .592      68.4      43.0      56.3      17.2       5.8   \n",
       "3      ...    .391      64.6      50.0      52.6      11.0       7.6   \n",
       "4      ...    .479      64.7      46.7      46.9       2.3      12.9   \n",
       "...    ...     ...       ...       ...       ...       ...       ...   \n",
       "15516  ...    .277      85.0      53.8      48.6       8.0       4.2   \n",
       "15517  ...    .330      84.8      50.6      69.4       8.0       6.8   \n",
       "15518  ...    .269      82.9      51.9      74.3       6.3      11.1   \n",
       "15519  ...    .318      83.3      53.8      50.0       6.4      12.5   \n",
       "15520  ...    .375      73.8      51.9      71.8       9.5      12.2   \n",
       "\n",
       "      user_per_h drtg_h    home_team game_date  \n",
       "0          100.0  105.7   SanAntonio  20071030  \n",
       "1          100.0  111.3  GoldenState  20071030  \n",
       "2          100.0  102.1     LALakers  20071030  \n",
       "3          100.0  101.2      Indiana  20071031  \n",
       "4          100.0   94.2      Orlando  20071031  \n",
       "...          ...    ...          ...       ...  \n",
       "15516      100.0  109.0      Toronto  20190602  \n",
       "15517      100.0  123.5  GoldenState  20190605  \n",
       "15518      100.0  110.7  GoldenState  20190607  \n",
       "15519      100.0  112.4      Toronto  20190610  \n",
       "15520      100.0  120.5  GoldenState  20190613  \n",
       "\n",
       "[15521 rows x 70 columns]"
      ]
     },
     "execution_count": 22,
     "metadata": {},
     "output_type": "execute_result"
    }
   ],
   "source": [
    "game_df"
   ]
  },
  {
   "cell_type": "code",
   "execution_count": 23,
   "metadata": {},
   "outputs": [],
   "source": [
    "game_df['id'] = game_df['game_date'] + game_df['home_team']"
   ]
  },
  {
   "cell_type": "code",
   "execution_count": 24,
   "metadata": {},
   "outputs": [
    {
     "data": {
      "text/html": [
       "<div>\n",
       "<style scoped>\n",
       "    .dataframe tbody tr th:only-of-type {\n",
       "        vertical-align: middle;\n",
       "    }\n",
       "\n",
       "    .dataframe tbody tr th {\n",
       "        vertical-align: top;\n",
       "    }\n",
       "\n",
       "    .dataframe thead th {\n",
       "        text-align: right;\n",
       "    }\n",
       "</style>\n",
       "<table border=\"1\" class=\"dataframe\">\n",
       "  <thead>\n",
       "    <tr style=\"text-align: right;\">\n",
       "      <th></th>\n",
       "      <th>game_id</th>\n",
       "      <th>total</th>\n",
       "      <th>away</th>\n",
       "      <th>home</th>\n",
       "      <th>pace_v</th>\n",
       "      <th>pace_h</th>\n",
       "      <th>eFg_v</th>\n",
       "      <th>eFg_h</th>\n",
       "      <th>tov_v</th>\n",
       "      <th>tov_h</th>\n",
       "      <th>...</th>\n",
       "      <th>drb_per_h</th>\n",
       "      <th>trb_per_h</th>\n",
       "      <th>ast_per_h</th>\n",
       "      <th>stl_per_h</th>\n",
       "      <th>blk_per_h</th>\n",
       "      <th>user_per_h</th>\n",
       "      <th>drtg_h</th>\n",
       "      <th>home_team</th>\n",
       "      <th>game_date</th>\n",
       "      <th>id</th>\n",
       "    </tr>\n",
       "  </thead>\n",
       "  <tbody>\n",
       "    <tr>\n",
       "      <th>0</th>\n",
       "      <td>200710300SAS</td>\n",
       "      <td>203</td>\n",
       "      <td>POR</td>\n",
       "      <td>SAS</td>\n",
       "      <td>91.8</td>\n",
       "      <td>91.8</td>\n",
       "      <td>.538</td>\n",
       "      <td>.506</td>\n",
       "      <td>15.8</td>\n",
       "      <td>7.5</td>\n",
       "      <td>...</td>\n",
       "      <td>77.8</td>\n",
       "      <td>50.0</td>\n",
       "      <td>51.2</td>\n",
       "      <td>8.7</td>\n",
       "      <td>6.2</td>\n",
       "      <td>100.0</td>\n",
       "      <td>105.7</td>\n",
       "      <td>SanAntonio</td>\n",
       "      <td>20071030</td>\n",
       "      <td>20071030SanAntonio</td>\n",
       "    </tr>\n",
       "    <tr>\n",
       "      <th>1</th>\n",
       "      <td>200710300GSW</td>\n",
       "      <td>213</td>\n",
       "      <td>UTA</td>\n",
       "      <td>GSW</td>\n",
       "      <td>105.1</td>\n",
       "      <td>105.1</td>\n",
       "      <td>.483</td>\n",
       "      <td>.455</td>\n",
       "      <td>15.2</td>\n",
       "      <td>17.6</td>\n",
       "      <td>...</td>\n",
       "      <td>65.2</td>\n",
       "      <td>39.8</td>\n",
       "      <td>59.4</td>\n",
       "      <td>7.6</td>\n",
       "      <td>11.4</td>\n",
       "      <td>100.0</td>\n",
       "      <td>111.3</td>\n",
       "      <td>GoldenState</td>\n",
       "      <td>20071030</td>\n",
       "      <td>20071030GoldenState</td>\n",
       "    </tr>\n",
       "    <tr>\n",
       "      <th>2</th>\n",
       "      <td>200710300LAL</td>\n",
       "      <td>188</td>\n",
       "      <td>HOU</td>\n",
       "      <td>LAL</td>\n",
       "      <td>93.0</td>\n",
       "      <td>93.0</td>\n",
       "      <td>.500</td>\n",
       "      <td>.434</td>\n",
       "      <td>17.0</td>\n",
       "      <td>11.1</td>\n",
       "      <td>...</td>\n",
       "      <td>68.4</td>\n",
       "      <td>43.0</td>\n",
       "      <td>56.3</td>\n",
       "      <td>17.2</td>\n",
       "      <td>5.8</td>\n",
       "      <td>100.0</td>\n",
       "      <td>102.1</td>\n",
       "      <td>LALakers</td>\n",
       "      <td>20071030</td>\n",
       "      <td>20071030LALakers</td>\n",
       "    </tr>\n",
       "    <tr>\n",
       "      <th>3</th>\n",
       "      <td>200710310IND</td>\n",
       "      <td>229</td>\n",
       "      <td>WAS</td>\n",
       "      <td>IND</td>\n",
       "      <td>98.4</td>\n",
       "      <td>98.4</td>\n",
       "      <td>.394</td>\n",
       "      <td>.484</td>\n",
       "      <td>13.2</td>\n",
       "      <td>13.6</td>\n",
       "      <td>...</td>\n",
       "      <td>64.6</td>\n",
       "      <td>50.0</td>\n",
       "      <td>52.6</td>\n",
       "      <td>11.0</td>\n",
       "      <td>7.6</td>\n",
       "      <td>100.0</td>\n",
       "      <td>101.2</td>\n",
       "      <td>Indiana</td>\n",
       "      <td>20071031</td>\n",
       "      <td>20071031Indiana</td>\n",
       "    </tr>\n",
       "    <tr>\n",
       "      <th>4</th>\n",
       "      <td>200710310ORL</td>\n",
       "      <td>185</td>\n",
       "      <td>MIL</td>\n",
       "      <td>ORL</td>\n",
       "      <td>88.1</td>\n",
       "      <td>88.1</td>\n",
       "      <td>.402</td>\n",
       "      <td>.521</td>\n",
       "      <td>12.6</td>\n",
       "      <td>10.2</td>\n",
       "      <td>...</td>\n",
       "      <td>64.7</td>\n",
       "      <td>46.7</td>\n",
       "      <td>46.9</td>\n",
       "      <td>2.3</td>\n",
       "      <td>12.9</td>\n",
       "      <td>100.0</td>\n",
       "      <td>94.2</td>\n",
       "      <td>Orlando</td>\n",
       "      <td>20071031</td>\n",
       "      <td>20071031Orlando</td>\n",
       "    </tr>\n",
       "    <tr>\n",
       "      <th>...</th>\n",
       "      <td>...</td>\n",
       "      <td>...</td>\n",
       "      <td>...</td>\n",
       "      <td>...</td>\n",
       "      <td>...</td>\n",
       "      <td>...</td>\n",
       "      <td>...</td>\n",
       "      <td>...</td>\n",
       "      <td>...</td>\n",
       "      <td>...</td>\n",
       "      <td>...</td>\n",
       "      <td>...</td>\n",
       "      <td>...</td>\n",
       "      <td>...</td>\n",
       "      <td>...</td>\n",
       "      <td>...</td>\n",
       "      <td>...</td>\n",
       "      <td>...</td>\n",
       "      <td>...</td>\n",
       "      <td>...</td>\n",
       "      <td>...</td>\n",
       "    </tr>\n",
       "    <tr>\n",
       "      <th>15516</th>\n",
       "      <td>201906020TOR</td>\n",
       "      <td>213</td>\n",
       "      <td>GSW</td>\n",
       "      <td>TOR</td>\n",
       "      <td>100.0</td>\n",
       "      <td>100.0</td>\n",
       "      <td>.543</td>\n",
       "      <td>.431</td>\n",
       "      <td>14.0</td>\n",
       "      <td>12.5</td>\n",
       "      <td>...</td>\n",
       "      <td>85.0</td>\n",
       "      <td>53.8</td>\n",
       "      <td>48.6</td>\n",
       "      <td>8.0</td>\n",
       "      <td>4.2</td>\n",
       "      <td>100.0</td>\n",
       "      <td>109.0</td>\n",
       "      <td>Toronto</td>\n",
       "      <td>20190602</td>\n",
       "      <td>20190602Toronto</td>\n",
       "    </tr>\n",
       "    <tr>\n",
       "      <th>15517</th>\n",
       "      <td>201906050GSW</td>\n",
       "      <td>232</td>\n",
       "      <td>TOR</td>\n",
       "      <td>GSW</td>\n",
       "      <td>99.6</td>\n",
       "      <td>99.6</td>\n",
       "      <td>.628</td>\n",
       "      <td>.462</td>\n",
       "      <td>13.3</td>\n",
       "      <td>11.8</td>\n",
       "      <td>...</td>\n",
       "      <td>84.8</td>\n",
       "      <td>50.6</td>\n",
       "      <td>69.4</td>\n",
       "      <td>8.0</td>\n",
       "      <td>6.8</td>\n",
       "      <td>100.0</td>\n",
       "      <td>123.5</td>\n",
       "      <td>GoldenState</td>\n",
       "      <td>20190605</td>\n",
       "      <td>20190605GoldenState</td>\n",
       "    </tr>\n",
       "    <tr>\n",
       "      <th>15518</th>\n",
       "      <td>201906070GSW</td>\n",
       "      <td>197</td>\n",
       "      <td>TOR</td>\n",
       "      <td>GSW</td>\n",
       "      <td>94.8</td>\n",
       "      <td>94.8</td>\n",
       "      <td>.477</td>\n",
       "      <td>.500</td>\n",
       "      <td>8.5</td>\n",
       "      <td>16.3</td>\n",
       "      <td>...</td>\n",
       "      <td>82.9</td>\n",
       "      <td>51.9</td>\n",
       "      <td>74.3</td>\n",
       "      <td>6.3</td>\n",
       "      <td>11.1</td>\n",
       "      <td>100.0</td>\n",
       "      <td>110.7</td>\n",
       "      <td>GoldenState</td>\n",
       "      <td>20190607</td>\n",
       "      <td>20190607GoldenState</td>\n",
       "    </tr>\n",
       "    <tr>\n",
       "      <th>15519</th>\n",
       "      <td>201906100TOR</td>\n",
       "      <td>211</td>\n",
       "      <td>GSW</td>\n",
       "      <td>TOR</td>\n",
       "      <td>94.3</td>\n",
       "      <td>94.3</td>\n",
       "      <td>.585</td>\n",
       "      <td>.494</td>\n",
       "      <td>14.5</td>\n",
       "      <td>11.8</td>\n",
       "      <td>...</td>\n",
       "      <td>83.3</td>\n",
       "      <td>53.8</td>\n",
       "      <td>50.0</td>\n",
       "      <td>6.4</td>\n",
       "      <td>12.5</td>\n",
       "      <td>100.0</td>\n",
       "      <td>112.4</td>\n",
       "      <td>Toronto</td>\n",
       "      <td>20190610</td>\n",
       "      <td>20190610Toronto</td>\n",
       "    </tr>\n",
       "    <tr>\n",
       "      <th>15520</th>\n",
       "      <td>201906130GSW</td>\n",
       "      <td>224</td>\n",
       "      <td>TOR</td>\n",
       "      <td>GSW</td>\n",
       "      <td>94.6</td>\n",
       "      <td>94.6</td>\n",
       "      <td>.555</td>\n",
       "      <td>.556</td>\n",
       "      <td>11.2</td>\n",
       "      <td>14.7</td>\n",
       "      <td>...</td>\n",
       "      <td>73.8</td>\n",
       "      <td>51.9</td>\n",
       "      <td>71.8</td>\n",
       "      <td>9.5</td>\n",
       "      <td>12.2</td>\n",
       "      <td>100.0</td>\n",
       "      <td>120.5</td>\n",
       "      <td>GoldenState</td>\n",
       "      <td>20190613</td>\n",
       "      <td>20190613GoldenState</td>\n",
       "    </tr>\n",
       "  </tbody>\n",
       "</table>\n",
       "<p>15521 rows × 71 columns</p>\n",
       "</div>"
      ],
      "text/plain": [
       "            game_id  total away home pace_v pace_h eFg_v eFg_h tov_v tov_h  \\\n",
       "0      200710300SAS    203  POR  SAS   91.8   91.8  .538  .506  15.8   7.5   \n",
       "1      200710300GSW    213  UTA  GSW  105.1  105.1  .483  .455  15.2  17.6   \n",
       "2      200710300LAL    188  HOU  LAL   93.0   93.0  .500  .434  17.0  11.1   \n",
       "3      200710310IND    229  WAS  IND   98.4   98.4  .394  .484  13.2  13.6   \n",
       "4      200710310ORL    185  MIL  ORL   88.1   88.1  .402  .521  12.6  10.2   \n",
       "...             ...    ...  ...  ...    ...    ...   ...   ...   ...   ...   \n",
       "15516  201906020TOR    213  GSW  TOR  100.0  100.0  .543  .431  14.0  12.5   \n",
       "15517  201906050GSW    232  TOR  GSW   99.6   99.6  .628  .462  13.3  11.8   \n",
       "15518  201906070GSW    197  TOR  GSW   94.8   94.8  .477  .500   8.5  16.3   \n",
       "15519  201906100TOR    211  GSW  TOR   94.3   94.3  .585  .494  14.5  11.8   \n",
       "15520  201906130GSW    224  TOR  GSW   94.6   94.6  .555  .556  11.2  14.7   \n",
       "\n",
       "       ... drb_per_h trb_per_h ast_per_h stl_per_h blk_per_h user_per_h  \\\n",
       "0      ...      77.8      50.0      51.2       8.7       6.2      100.0   \n",
       "1      ...      65.2      39.8      59.4       7.6      11.4      100.0   \n",
       "2      ...      68.4      43.0      56.3      17.2       5.8      100.0   \n",
       "3      ...      64.6      50.0      52.6      11.0       7.6      100.0   \n",
       "4      ...      64.7      46.7      46.9       2.3      12.9      100.0   \n",
       "...    ...       ...       ...       ...       ...       ...        ...   \n",
       "15516  ...      85.0      53.8      48.6       8.0       4.2      100.0   \n",
       "15517  ...      84.8      50.6      69.4       8.0       6.8      100.0   \n",
       "15518  ...      82.9      51.9      74.3       6.3      11.1      100.0   \n",
       "15519  ...      83.3      53.8      50.0       6.4      12.5      100.0   \n",
       "15520  ...      73.8      51.9      71.8       9.5      12.2      100.0   \n",
       "\n",
       "      drtg_h    home_team game_date                   id  \n",
       "0      105.7   SanAntonio  20071030   20071030SanAntonio  \n",
       "1      111.3  GoldenState  20071030  20071030GoldenState  \n",
       "2      102.1     LALakers  20071030     20071030LALakers  \n",
       "3      101.2      Indiana  20071031      20071031Indiana  \n",
       "4       94.2      Orlando  20071031      20071031Orlando  \n",
       "...      ...          ...       ...                  ...  \n",
       "15516  109.0      Toronto  20190602      20190602Toronto  \n",
       "15517  123.5  GoldenState  20190605  20190605GoldenState  \n",
       "15518  110.7  GoldenState  20190607  20190607GoldenState  \n",
       "15519  112.4      Toronto  20190610      20190610Toronto  \n",
       "15520  120.5  GoldenState  20190613  20190613GoldenState  \n",
       "\n",
       "[15521 rows x 71 columns]"
      ]
     },
     "execution_count": 24,
     "metadata": {},
     "output_type": "execute_result"
    }
   ],
   "source": [
    "game_df"
   ]
  },
  {
   "cell_type": "code",
   "execution_count": 26,
   "metadata": {},
   "outputs": [],
   "source": [
    "lines['id'] = lines['Date'] + lines['Home']"
   ]
  },
  {
   "cell_type": "code",
   "execution_count": 27,
   "metadata": {},
   "outputs": [
    {
     "data": {
      "text/html": [
       "<div>\n",
       "<style scoped>\n",
       "    .dataframe tbody tr th:only-of-type {\n",
       "        vertical-align: middle;\n",
       "    }\n",
       "\n",
       "    .dataframe tbody tr th {\n",
       "        vertical-align: top;\n",
       "    }\n",
       "\n",
       "    .dataframe thead th {\n",
       "        text-align: right;\n",
       "    }\n",
       "</style>\n",
       "<table border=\"1\" class=\"dataframe\">\n",
       "  <thead>\n",
       "    <tr style=\"text-align: right;\">\n",
       "      <th></th>\n",
       "      <th>Date</th>\n",
       "      <th>Home</th>\n",
       "      <th>Visitor</th>\n",
       "      <th>O/U_open</th>\n",
       "      <th>O/U_close</th>\n",
       "      <th>Season</th>\n",
       "      <th>id</th>\n",
       "    </tr>\n",
       "  </thead>\n",
       "  <tbody>\n",
       "    <tr>\n",
       "      <th>0</th>\n",
       "      <td>20071030</td>\n",
       "      <td>SanAntonio</td>\n",
       "      <td>Portland</td>\n",
       "      <td>184.0</td>\n",
       "      <td>189.5</td>\n",
       "      <td>0708</td>\n",
       "      <td>20071030SanAntonio</td>\n",
       "    </tr>\n",
       "    <tr>\n",
       "      <th>1</th>\n",
       "      <td>20071030</td>\n",
       "      <td>GoldenState</td>\n",
       "      <td>Utah</td>\n",
       "      <td>214.5</td>\n",
       "      <td>212.0</td>\n",
       "      <td>0708</td>\n",
       "      <td>20071030GoldenState</td>\n",
       "    </tr>\n",
       "    <tr>\n",
       "      <th>2</th>\n",
       "      <td>20071030</td>\n",
       "      <td>LALakers</td>\n",
       "      <td>Houston</td>\n",
       "      <td>191.0</td>\n",
       "      <td>199.0</td>\n",
       "      <td>0708</td>\n",
       "      <td>20071030LALakers</td>\n",
       "    </tr>\n",
       "    <tr>\n",
       "      <th>3</th>\n",
       "      <td>20071031</td>\n",
       "      <td>Toronto</td>\n",
       "      <td>Philadelphia</td>\n",
       "      <td>190.0</td>\n",
       "      <td>191.0</td>\n",
       "      <td>0708</td>\n",
       "      <td>20071031Toronto</td>\n",
       "    </tr>\n",
       "    <tr>\n",
       "      <th>4</th>\n",
       "      <td>20071031</td>\n",
       "      <td>Indiana</td>\n",
       "      <td>Washington</td>\n",
       "      <td>200.0</td>\n",
       "      <td>203.5</td>\n",
       "      <td>0708</td>\n",
       "      <td>20071031Indiana</td>\n",
       "    </tr>\n",
       "    <tr>\n",
       "      <th>...</th>\n",
       "      <td>...</td>\n",
       "      <td>...</td>\n",
       "      <td>...</td>\n",
       "      <td>...</td>\n",
       "      <td>...</td>\n",
       "      <td>...</td>\n",
       "      <td>...</td>\n",
       "    </tr>\n",
       "    <tr>\n",
       "      <th>15515</th>\n",
       "      <td>20190602</td>\n",
       "      <td>Toronto</td>\n",
       "      <td>GoldenState</td>\n",
       "      <td>216.0</td>\n",
       "      <td>213.5</td>\n",
       "      <td>1819</td>\n",
       "      <td>20190602Toronto</td>\n",
       "    </tr>\n",
       "    <tr>\n",
       "      <th>15516</th>\n",
       "      <td>20190605</td>\n",
       "      <td>GoldenState</td>\n",
       "      <td>Toronto</td>\n",
       "      <td>214.0</td>\n",
       "      <td>209.5</td>\n",
       "      <td>1819</td>\n",
       "      <td>20190605GoldenState</td>\n",
       "    </tr>\n",
       "    <tr>\n",
       "      <th>15517</th>\n",
       "      <td>20190607</td>\n",
       "      <td>GoldenState</td>\n",
       "      <td>Toronto</td>\n",
       "      <td>216.0</td>\n",
       "      <td>215.0</td>\n",
       "      <td>1819</td>\n",
       "      <td>20190607GoldenState</td>\n",
       "    </tr>\n",
       "    <tr>\n",
       "      <th>15518</th>\n",
       "      <td>20190610</td>\n",
       "      <td>Toronto</td>\n",
       "      <td>GoldenState</td>\n",
       "      <td>212.0</td>\n",
       "      <td>217.0</td>\n",
       "      <td>1819</td>\n",
       "      <td>20190610Toronto</td>\n",
       "    </tr>\n",
       "    <tr>\n",
       "      <th>15519</th>\n",
       "      <td>20190613</td>\n",
       "      <td>GoldenState</td>\n",
       "      <td>Toronto</td>\n",
       "      <td>211.0</td>\n",
       "      <td>211.5</td>\n",
       "      <td>1819</td>\n",
       "      <td>20190613GoldenState</td>\n",
       "    </tr>\n",
       "  </tbody>\n",
       "</table>\n",
       "<p>15520 rows × 7 columns</p>\n",
       "</div>"
      ],
      "text/plain": [
       "           Date         Home       Visitor  O/U_open  O/U_close Season  \\\n",
       "0      20071030   SanAntonio      Portland     184.0      189.5   0708   \n",
       "1      20071030  GoldenState          Utah     214.5      212.0   0708   \n",
       "2      20071030     LALakers       Houston     191.0      199.0   0708   \n",
       "3      20071031      Toronto  Philadelphia     190.0      191.0   0708   \n",
       "4      20071031      Indiana    Washington     200.0      203.5   0708   \n",
       "...         ...          ...           ...       ...        ...    ...   \n",
       "15515  20190602      Toronto   GoldenState     216.0      213.5   1819   \n",
       "15516  20190605  GoldenState       Toronto     214.0      209.5   1819   \n",
       "15517  20190607  GoldenState       Toronto     216.0      215.0   1819   \n",
       "15518  20190610      Toronto   GoldenState     212.0      217.0   1819   \n",
       "15519  20190613  GoldenState       Toronto     211.0      211.5   1819   \n",
       "\n",
       "                        id  \n",
       "0       20071030SanAntonio  \n",
       "1      20071030GoldenState  \n",
       "2         20071030LALakers  \n",
       "3          20071031Toronto  \n",
       "4          20071031Indiana  \n",
       "...                    ...  \n",
       "15515      20190602Toronto  \n",
       "15516  20190605GoldenState  \n",
       "15517  20190607GoldenState  \n",
       "15518      20190610Toronto  \n",
       "15519  20190613GoldenState  \n",
       "\n",
       "[15520 rows x 7 columns]"
      ]
     },
     "execution_count": 27,
     "metadata": {},
     "output_type": "execute_result"
    }
   ],
   "source": [
    "lines"
   ]
  },
  {
   "cell_type": "code",
   "execution_count": 28,
   "metadata": {},
   "outputs": [
    {
     "name": "stdout",
     "output_type": "stream",
     "text": [
      "<class 'pandas.core.frame.DataFrame'>\n",
      "RangeIndex: 15520 entries, 0 to 15519\n",
      "Data columns (total 7 columns):\n",
      " #   Column     Non-Null Count  Dtype  \n",
      "---  ------     --------------  -----  \n",
      " 0   Date       15520 non-null  object \n",
      " 1   Home       15520 non-null  object \n",
      " 2   Visitor    15520 non-null  object \n",
      " 3   O/U_open   15520 non-null  float64\n",
      " 4   O/U_close  15520 non-null  float64\n",
      " 5   Season     15520 non-null  object \n",
      " 6   id         15520 non-null  object \n",
      "dtypes: float64(2), object(5)\n",
      "memory usage: 848.9+ KB\n"
     ]
    }
   ],
   "source": [
    "lines.info()"
   ]
  },
  {
   "cell_type": "code",
   "execution_count": 29,
   "metadata": {
    "scrolled": true
   },
   "outputs": [
    {
     "name": "stdout",
     "output_type": "stream",
     "text": [
      "<class 'pandas.core.frame.DataFrame'>\n",
      "RangeIndex: 15521 entries, 0 to 15520\n",
      "Data columns (total 71 columns):\n",
      " #   Column        Non-Null Count  Dtype \n",
      "---  ------        --------------  ----- \n",
      " 0   game_id       15521 non-null  object\n",
      " 1   total         15521 non-null  int64 \n",
      " 2   away          15521 non-null  object\n",
      " 3   home          15521 non-null  object\n",
      " 4   pace_v        15521 non-null  object\n",
      " 5   pace_h        15521 non-null  object\n",
      " 6   eFg_v         15521 non-null  object\n",
      " 7   eFg_h         15521 non-null  object\n",
      " 8   tov_v         15521 non-null  object\n",
      " 9   tov_h         15521 non-null  object\n",
      " 10  orb_v         15521 non-null  object\n",
      " 11  orb_h         15521 non-null  object\n",
      " 12  ft_fga_v      15521 non-null  object\n",
      " 13  ft_fga_h      15521 non-null  object\n",
      " 14  ortg_v        15521 non-null  object\n",
      " 15  ortg_h        15521 non-null  object\n",
      " 16  fg_v          15521 non-null  object\n",
      " 17  fga_v         15521 non-null  object\n",
      " 18  fg_per_v      15521 non-null  object\n",
      " 19  threes_v      15521 non-null  object\n",
      " 20  threes_att_v  15521 non-null  object\n",
      " 21  threes_per_v  15521 non-null  object\n",
      " 22  ft_v          15521 non-null  object\n",
      " 23  fta_v         15521 non-null  object\n",
      " 24  ft_per_v      15521 non-null  object\n",
      " 25  drb_v         15521 non-null  object\n",
      " 26  trb_v         15521 non-null  object\n",
      " 27  ast_v         15521 non-null  object\n",
      " 28  stl_v         15521 non-null  object\n",
      " 29  blk_v         15521 non-null  object\n",
      " 30  to_v          15521 non-null  object\n",
      " 31  fouls_v       15521 non-null  object\n",
      " 32  ts_per_v      15521 non-null  object\n",
      " 33  threes_ar_v   15521 non-null  object\n",
      " 34  ft_ar_v       15521 non-null  object\n",
      " 35  drb_per_v     15521 non-null  object\n",
      " 36  trb_per_v     15521 non-null  object\n",
      " 37  ast_per_v     15521 non-null  object\n",
      " 38  stl_per_v     15521 non-null  object\n",
      " 39  blk_per_v     15521 non-null  object\n",
      " 40  user_per_v    15521 non-null  object\n",
      " 41  drtg_v        15521 non-null  object\n",
      " 42  fg_h          15521 non-null  object\n",
      " 43  fga_h         15521 non-null  object\n",
      " 44  fg_per_h      15521 non-null  object\n",
      " 45  threes_h      15521 non-null  object\n",
      " 46  threes_att_h  15521 non-null  object\n",
      " 47  threes_per_h  15521 non-null  object\n",
      " 48  ft_h          15521 non-null  object\n",
      " 49  fta_h         15521 non-null  object\n",
      " 50  ft_per_h      15521 non-null  object\n",
      " 51  drb_h         15521 non-null  object\n",
      " 52  trb_h         15521 non-null  object\n",
      " 53  ast_h         15521 non-null  object\n",
      " 54  stl_h         15521 non-null  object\n",
      " 55  blk_h         15521 non-null  object\n",
      " 56  to_h          15521 non-null  object\n",
      " 57  fouls_h       15521 non-null  object\n",
      " 58  ts_per_h      15521 non-null  object\n",
      " 59  threes_ar_h   15521 non-null  object\n",
      " 60  ft_ar_h       15521 non-null  object\n",
      " 61  drb_per_h     15521 non-null  object\n",
      " 62  trb_per_h     15521 non-null  object\n",
      " 63  ast_per_h     15521 non-null  object\n",
      " 64  stl_per_h     15521 non-null  object\n",
      " 65  blk_per_h     15521 non-null  object\n",
      " 66  user_per_h    15521 non-null  object\n",
      " 67  drtg_h        15521 non-null  object\n",
      " 68  home_team     15521 non-null  object\n",
      " 69  game_date     15521 non-null  object\n",
      " 70  id            15521 non-null  object\n",
      "dtypes: int64(1), object(70)\n",
      "memory usage: 8.4+ MB\n"
     ]
    }
   ],
   "source": [
    "game_df.info()"
   ]
  },
  {
   "cell_type": "markdown",
   "metadata": {},
   "source": [
    "Now both databases have a column to merge on. The 'id' column."
   ]
  },
  {
   "cell_type": "code",
   "execution_count": 30,
   "metadata": {},
   "outputs": [],
   "source": [
    "df = pd.merge(lines,game_df,on='id')"
   ]
  },
  {
   "cell_type": "code",
   "execution_count": 31,
   "metadata": {},
   "outputs": [
    {
     "data": {
      "text/html": [
       "<div>\n",
       "<style scoped>\n",
       "    .dataframe tbody tr th:only-of-type {\n",
       "        vertical-align: middle;\n",
       "    }\n",
       "\n",
       "    .dataframe tbody tr th {\n",
       "        vertical-align: top;\n",
       "    }\n",
       "\n",
       "    .dataframe thead th {\n",
       "        text-align: right;\n",
       "    }\n",
       "</style>\n",
       "<table border=\"1\" class=\"dataframe\">\n",
       "  <thead>\n",
       "    <tr style=\"text-align: right;\">\n",
       "      <th></th>\n",
       "      <th>Date</th>\n",
       "      <th>Home</th>\n",
       "      <th>Visitor</th>\n",
       "      <th>O/U_open</th>\n",
       "      <th>O/U_close</th>\n",
       "      <th>Season</th>\n",
       "      <th>id</th>\n",
       "      <th>game_id</th>\n",
       "      <th>total</th>\n",
       "      <th>away</th>\n",
       "      <th>...</th>\n",
       "      <th>ft_ar_h</th>\n",
       "      <th>drb_per_h</th>\n",
       "      <th>trb_per_h</th>\n",
       "      <th>ast_per_h</th>\n",
       "      <th>stl_per_h</th>\n",
       "      <th>blk_per_h</th>\n",
       "      <th>user_per_h</th>\n",
       "      <th>drtg_h</th>\n",
       "      <th>home_team</th>\n",
       "      <th>game_date</th>\n",
       "    </tr>\n",
       "  </thead>\n",
       "  <tbody>\n",
       "    <tr>\n",
       "      <th>0</th>\n",
       "      <td>20071030</td>\n",
       "      <td>SanAntonio</td>\n",
       "      <td>Portland</td>\n",
       "      <td>184.0</td>\n",
       "      <td>189.5</td>\n",
       "      <td>0708</td>\n",
       "      <td>20071030SanAntonio</td>\n",
       "      <td>200710300SAS</td>\n",
       "      <td>203</td>\n",
       "      <td>POR</td>\n",
       "      <td>...</td>\n",
       "      <td>.299</td>\n",
       "      <td>77.8</td>\n",
       "      <td>50.0</td>\n",
       "      <td>51.2</td>\n",
       "      <td>8.7</td>\n",
       "      <td>6.2</td>\n",
       "      <td>100.0</td>\n",
       "      <td>105.7</td>\n",
       "      <td>SanAntonio</td>\n",
       "      <td>20071030</td>\n",
       "    </tr>\n",
       "    <tr>\n",
       "      <th>1</th>\n",
       "      <td>20071030</td>\n",
       "      <td>GoldenState</td>\n",
       "      <td>Utah</td>\n",
       "      <td>214.5</td>\n",
       "      <td>212.0</td>\n",
       "      <td>0708</td>\n",
       "      <td>20071030GoldenState</td>\n",
       "      <td>200710300GSW</td>\n",
       "      <td>213</td>\n",
       "      <td>UTA</td>\n",
       "      <td>...</td>\n",
       "      <td>.494</td>\n",
       "      <td>65.2</td>\n",
       "      <td>39.8</td>\n",
       "      <td>59.4</td>\n",
       "      <td>7.6</td>\n",
       "      <td>11.4</td>\n",
       "      <td>100.0</td>\n",
       "      <td>111.3</td>\n",
       "      <td>GoldenState</td>\n",
       "      <td>20071030</td>\n",
       "    </tr>\n",
       "    <tr>\n",
       "      <th>2</th>\n",
       "      <td>20071030</td>\n",
       "      <td>LALakers</td>\n",
       "      <td>Houston</td>\n",
       "      <td>191.0</td>\n",
       "      <td>199.0</td>\n",
       "      <td>0708</td>\n",
       "      <td>20071030LALakers</td>\n",
       "      <td>200710300LAL</td>\n",
       "      <td>188</td>\n",
       "      <td>HOU</td>\n",
       "      <td>...</td>\n",
       "      <td>.592</td>\n",
       "      <td>68.4</td>\n",
       "      <td>43.0</td>\n",
       "      <td>56.3</td>\n",
       "      <td>17.2</td>\n",
       "      <td>5.8</td>\n",
       "      <td>100.0</td>\n",
       "      <td>102.1</td>\n",
       "      <td>LALakers</td>\n",
       "      <td>20071030</td>\n",
       "    </tr>\n",
       "    <tr>\n",
       "      <th>3</th>\n",
       "      <td>20071031</td>\n",
       "      <td>Toronto</td>\n",
       "      <td>Philadelphia</td>\n",
       "      <td>190.0</td>\n",
       "      <td>191.0</td>\n",
       "      <td>0708</td>\n",
       "      <td>20071031Toronto</td>\n",
       "      <td>200710310TOR</td>\n",
       "      <td>203</td>\n",
       "      <td>PHI</td>\n",
       "      <td>...</td>\n",
       "      <td>.200</td>\n",
       "      <td>64.3</td>\n",
       "      <td>44.6</td>\n",
       "      <td>56.1</td>\n",
       "      <td>8.8</td>\n",
       "      <td>6.2</td>\n",
       "      <td>100.0</td>\n",
       "      <td>106.8</td>\n",
       "      <td>Toronto</td>\n",
       "      <td>20071031</td>\n",
       "    </tr>\n",
       "    <tr>\n",
       "      <th>4</th>\n",
       "      <td>20071031</td>\n",
       "      <td>Indiana</td>\n",
       "      <td>Washington</td>\n",
       "      <td>200.0</td>\n",
       "      <td>203.5</td>\n",
       "      <td>0708</td>\n",
       "      <td>20071031Indiana</td>\n",
       "      <td>200710310IND</td>\n",
       "      <td>229</td>\n",
       "      <td>WAS</td>\n",
       "      <td>...</td>\n",
       "      <td>.391</td>\n",
       "      <td>64.6</td>\n",
       "      <td>50.0</td>\n",
       "      <td>52.6</td>\n",
       "      <td>11.0</td>\n",
       "      <td>7.6</td>\n",
       "      <td>100.0</td>\n",
       "      <td>101.2</td>\n",
       "      <td>Indiana</td>\n",
       "      <td>20071031</td>\n",
       "    </tr>\n",
       "    <tr>\n",
       "      <th>...</th>\n",
       "      <td>...</td>\n",
       "      <td>...</td>\n",
       "      <td>...</td>\n",
       "      <td>...</td>\n",
       "      <td>...</td>\n",
       "      <td>...</td>\n",
       "      <td>...</td>\n",
       "      <td>...</td>\n",
       "      <td>...</td>\n",
       "      <td>...</td>\n",
       "      <td>...</td>\n",
       "      <td>...</td>\n",
       "      <td>...</td>\n",
       "      <td>...</td>\n",
       "      <td>...</td>\n",
       "      <td>...</td>\n",
       "      <td>...</td>\n",
       "      <td>...</td>\n",
       "      <td>...</td>\n",
       "      <td>...</td>\n",
       "      <td>...</td>\n",
       "    </tr>\n",
       "    <tr>\n",
       "      <th>15010</th>\n",
       "      <td>20190602</td>\n",
       "      <td>Toronto</td>\n",
       "      <td>GoldenState</td>\n",
       "      <td>216.0</td>\n",
       "      <td>213.5</td>\n",
       "      <td>1819</td>\n",
       "      <td>20190602Toronto</td>\n",
       "      <td>201906020TOR</td>\n",
       "      <td>213</td>\n",
       "      <td>GSW</td>\n",
       "      <td>...</td>\n",
       "      <td>.277</td>\n",
       "      <td>85.0</td>\n",
       "      <td>53.8</td>\n",
       "      <td>48.6</td>\n",
       "      <td>8.0</td>\n",
       "      <td>4.2</td>\n",
       "      <td>100.0</td>\n",
       "      <td>109.0</td>\n",
       "      <td>Toronto</td>\n",
       "      <td>20190602</td>\n",
       "    </tr>\n",
       "    <tr>\n",
       "      <th>15011</th>\n",
       "      <td>20190605</td>\n",
       "      <td>GoldenState</td>\n",
       "      <td>Toronto</td>\n",
       "      <td>214.0</td>\n",
       "      <td>209.5</td>\n",
       "      <td>1819</td>\n",
       "      <td>20190605GoldenState</td>\n",
       "      <td>201906050GSW</td>\n",
       "      <td>232</td>\n",
       "      <td>TOR</td>\n",
       "      <td>...</td>\n",
       "      <td>.330</td>\n",
       "      <td>84.8</td>\n",
       "      <td>50.6</td>\n",
       "      <td>69.4</td>\n",
       "      <td>8.0</td>\n",
       "      <td>6.8</td>\n",
       "      <td>100.0</td>\n",
       "      <td>123.5</td>\n",
       "      <td>GoldenState</td>\n",
       "      <td>20190605</td>\n",
       "    </tr>\n",
       "    <tr>\n",
       "      <th>15012</th>\n",
       "      <td>20190607</td>\n",
       "      <td>GoldenState</td>\n",
       "      <td>Toronto</td>\n",
       "      <td>216.0</td>\n",
       "      <td>215.0</td>\n",
       "      <td>1819</td>\n",
       "      <td>20190607GoldenState</td>\n",
       "      <td>201906070GSW</td>\n",
       "      <td>197</td>\n",
       "      <td>TOR</td>\n",
       "      <td>...</td>\n",
       "      <td>.269</td>\n",
       "      <td>82.9</td>\n",
       "      <td>51.9</td>\n",
       "      <td>74.3</td>\n",
       "      <td>6.3</td>\n",
       "      <td>11.1</td>\n",
       "      <td>100.0</td>\n",
       "      <td>110.7</td>\n",
       "      <td>GoldenState</td>\n",
       "      <td>20190607</td>\n",
       "    </tr>\n",
       "    <tr>\n",
       "      <th>15013</th>\n",
       "      <td>20190610</td>\n",
       "      <td>Toronto</td>\n",
       "      <td>GoldenState</td>\n",
       "      <td>212.0</td>\n",
       "      <td>217.0</td>\n",
       "      <td>1819</td>\n",
       "      <td>20190610Toronto</td>\n",
       "      <td>201906100TOR</td>\n",
       "      <td>211</td>\n",
       "      <td>GSW</td>\n",
       "      <td>...</td>\n",
       "      <td>.318</td>\n",
       "      <td>83.3</td>\n",
       "      <td>53.8</td>\n",
       "      <td>50.0</td>\n",
       "      <td>6.4</td>\n",
       "      <td>12.5</td>\n",
       "      <td>100.0</td>\n",
       "      <td>112.4</td>\n",
       "      <td>Toronto</td>\n",
       "      <td>20190610</td>\n",
       "    </tr>\n",
       "    <tr>\n",
       "      <th>15014</th>\n",
       "      <td>20190613</td>\n",
       "      <td>GoldenState</td>\n",
       "      <td>Toronto</td>\n",
       "      <td>211.0</td>\n",
       "      <td>211.5</td>\n",
       "      <td>1819</td>\n",
       "      <td>20190613GoldenState</td>\n",
       "      <td>201906130GSW</td>\n",
       "      <td>224</td>\n",
       "      <td>TOR</td>\n",
       "      <td>...</td>\n",
       "      <td>.375</td>\n",
       "      <td>73.8</td>\n",
       "      <td>51.9</td>\n",
       "      <td>71.8</td>\n",
       "      <td>9.5</td>\n",
       "      <td>12.2</td>\n",
       "      <td>100.0</td>\n",
       "      <td>120.5</td>\n",
       "      <td>GoldenState</td>\n",
       "      <td>20190613</td>\n",
       "    </tr>\n",
       "  </tbody>\n",
       "</table>\n",
       "<p>15015 rows × 77 columns</p>\n",
       "</div>"
      ],
      "text/plain": [
       "           Date         Home       Visitor  O/U_open  O/U_close Season  \\\n",
       "0      20071030   SanAntonio      Portland     184.0      189.5   0708   \n",
       "1      20071030  GoldenState          Utah     214.5      212.0   0708   \n",
       "2      20071030     LALakers       Houston     191.0      199.0   0708   \n",
       "3      20071031      Toronto  Philadelphia     190.0      191.0   0708   \n",
       "4      20071031      Indiana    Washington     200.0      203.5   0708   \n",
       "...         ...          ...           ...       ...        ...    ...   \n",
       "15010  20190602      Toronto   GoldenState     216.0      213.5   1819   \n",
       "15011  20190605  GoldenState       Toronto     214.0      209.5   1819   \n",
       "15012  20190607  GoldenState       Toronto     216.0      215.0   1819   \n",
       "15013  20190610      Toronto   GoldenState     212.0      217.0   1819   \n",
       "15014  20190613  GoldenState       Toronto     211.0      211.5   1819   \n",
       "\n",
       "                        id       game_id  total away  ... ft_ar_h drb_per_h  \\\n",
       "0       20071030SanAntonio  200710300SAS    203  POR  ...    .299      77.8   \n",
       "1      20071030GoldenState  200710300GSW    213  UTA  ...    .494      65.2   \n",
       "2         20071030LALakers  200710300LAL    188  HOU  ...    .592      68.4   \n",
       "3          20071031Toronto  200710310TOR    203  PHI  ...    .200      64.3   \n",
       "4          20071031Indiana  200710310IND    229  WAS  ...    .391      64.6   \n",
       "...                    ...           ...    ...  ...  ...     ...       ...   \n",
       "15010      20190602Toronto  201906020TOR    213  GSW  ...    .277      85.0   \n",
       "15011  20190605GoldenState  201906050GSW    232  TOR  ...    .330      84.8   \n",
       "15012  20190607GoldenState  201906070GSW    197  TOR  ...    .269      82.9   \n",
       "15013      20190610Toronto  201906100TOR    211  GSW  ...    .318      83.3   \n",
       "15014  20190613GoldenState  201906130GSW    224  TOR  ...    .375      73.8   \n",
       "\n",
       "      trb_per_h ast_per_h stl_per_h blk_per_h user_per_h drtg_h    home_team  \\\n",
       "0          50.0      51.2       8.7       6.2      100.0  105.7   SanAntonio   \n",
       "1          39.8      59.4       7.6      11.4      100.0  111.3  GoldenState   \n",
       "2          43.0      56.3      17.2       5.8      100.0  102.1     LALakers   \n",
       "3          44.6      56.1       8.8       6.2      100.0  106.8      Toronto   \n",
       "4          50.0      52.6      11.0       7.6      100.0  101.2      Indiana   \n",
       "...         ...       ...       ...       ...        ...    ...          ...   \n",
       "15010      53.8      48.6       8.0       4.2      100.0  109.0      Toronto   \n",
       "15011      50.6      69.4       8.0       6.8      100.0  123.5  GoldenState   \n",
       "15012      51.9      74.3       6.3      11.1      100.0  110.7  GoldenState   \n",
       "15013      53.8      50.0       6.4      12.5      100.0  112.4      Toronto   \n",
       "15014      51.9      71.8       9.5      12.2      100.0  120.5  GoldenState   \n",
       "\n",
       "      game_date  \n",
       "0      20071030  \n",
       "1      20071030  \n",
       "2      20071030  \n",
       "3      20071031  \n",
       "4      20071031  \n",
       "...         ...  \n",
       "15010  20190602  \n",
       "15011  20190605  \n",
       "15012  20190607  \n",
       "15013  20190610  \n",
       "15014  20190613  \n",
       "\n",
       "[15015 rows x 77 columns]"
      ]
     },
     "execution_count": 31,
     "metadata": {},
     "output_type": "execute_result"
    }
   ],
   "source": [
    "df"
   ]
  },
  {
   "cell_type": "code",
   "execution_count": 32,
   "metadata": {},
   "outputs": [
    {
     "data": {
      "text/plain": [
       "(15015, 77)"
      ]
     },
     "execution_count": 32,
     "metadata": {},
     "output_type": "execute_result"
    }
   ],
   "source": [
    "df.shape"
   ]
  },
  {
   "cell_type": "markdown",
   "metadata": {},
   "source": [
    "Drop columns that share the same information."
   ]
  },
  {
   "cell_type": "code",
   "execution_count": 33,
   "metadata": {},
   "outputs": [],
   "source": [
    "df.drop(columns=['Home','Visitor','game_id','home_team','game_date'],inplace=True)"
   ]
  },
  {
   "cell_type": "code",
   "execution_count": 34,
   "metadata": {},
   "outputs": [
    {
     "data": {
      "text/html": [
       "<div>\n",
       "<style scoped>\n",
       "    .dataframe tbody tr th:only-of-type {\n",
       "        vertical-align: middle;\n",
       "    }\n",
       "\n",
       "    .dataframe tbody tr th {\n",
       "        vertical-align: top;\n",
       "    }\n",
       "\n",
       "    .dataframe thead th {\n",
       "        text-align: right;\n",
       "    }\n",
       "</style>\n",
       "<table border=\"1\" class=\"dataframe\">\n",
       "  <thead>\n",
       "    <tr style=\"text-align: right;\">\n",
       "      <th></th>\n",
       "      <th>Date</th>\n",
       "      <th>O/U_open</th>\n",
       "      <th>O/U_close</th>\n",
       "      <th>Season</th>\n",
       "      <th>id</th>\n",
       "      <th>total</th>\n",
       "      <th>away</th>\n",
       "      <th>home</th>\n",
       "      <th>pace_v</th>\n",
       "      <th>pace_h</th>\n",
       "      <th>...</th>\n",
       "      <th>ts_per_h</th>\n",
       "      <th>threes_ar_h</th>\n",
       "      <th>ft_ar_h</th>\n",
       "      <th>drb_per_h</th>\n",
       "      <th>trb_per_h</th>\n",
       "      <th>ast_per_h</th>\n",
       "      <th>stl_per_h</th>\n",
       "      <th>blk_per_h</th>\n",
       "      <th>user_per_h</th>\n",
       "      <th>drtg_h</th>\n",
       "    </tr>\n",
       "  </thead>\n",
       "  <tbody>\n",
       "    <tr>\n",
       "      <th>0</th>\n",
       "      <td>20071030</td>\n",
       "      <td>184.0</td>\n",
       "      <td>189.5</td>\n",
       "      <td>0708</td>\n",
       "      <td>20071030SanAntonio</td>\n",
       "      <td>203</td>\n",
       "      <td>POR</td>\n",
       "      <td>SAS</td>\n",
       "      <td>91.8</td>\n",
       "      <td>91.8</td>\n",
       "      <td>...</td>\n",
       "      <td>.538</td>\n",
       "      <td>.276</td>\n",
       "      <td>.299</td>\n",
       "      <td>77.8</td>\n",
       "      <td>50.0</td>\n",
       "      <td>51.2</td>\n",
       "      <td>8.7</td>\n",
       "      <td>6.2</td>\n",
       "      <td>100.0</td>\n",
       "      <td>105.7</td>\n",
       "    </tr>\n",
       "    <tr>\n",
       "      <th>1</th>\n",
       "      <td>20071030</td>\n",
       "      <td>214.5</td>\n",
       "      <td>212.0</td>\n",
       "      <td>0708</td>\n",
       "      <td>20071030GoldenState</td>\n",
       "      <td>213</td>\n",
       "      <td>UTA</td>\n",
       "      <td>GSW</td>\n",
       "      <td>105.1</td>\n",
       "      <td>105.1</td>\n",
       "      <td>...</td>\n",
       "      <td>.512</td>\n",
       "      <td>.299</td>\n",
       "      <td>.494</td>\n",
       "      <td>65.2</td>\n",
       "      <td>39.8</td>\n",
       "      <td>59.4</td>\n",
       "      <td>7.6</td>\n",
       "      <td>11.4</td>\n",
       "      <td>100.0</td>\n",
       "      <td>111.3</td>\n",
       "    </tr>\n",
       "    <tr>\n",
       "      <th>2</th>\n",
       "      <td>20071030</td>\n",
       "      <td>191.0</td>\n",
       "      <td>199.0</td>\n",
       "      <td>0708</td>\n",
       "      <td>20071030LALakers</td>\n",
       "      <td>188</td>\n",
       "      <td>HOU</td>\n",
       "      <td>LAL</td>\n",
       "      <td>93.0</td>\n",
       "      <td>93.0</td>\n",
       "      <td>...</td>\n",
       "      <td>.485</td>\n",
       "      <td>.105</td>\n",
       "      <td>.592</td>\n",
       "      <td>68.4</td>\n",
       "      <td>43.0</td>\n",
       "      <td>56.3</td>\n",
       "      <td>17.2</td>\n",
       "      <td>5.8</td>\n",
       "      <td>100.0</td>\n",
       "      <td>102.1</td>\n",
       "    </tr>\n",
       "    <tr>\n",
       "      <th>3</th>\n",
       "      <td>20071031</td>\n",
       "      <td>190.0</td>\n",
       "      <td>191.0</td>\n",
       "      <td>0708</td>\n",
       "      <td>20071031Toronto</td>\n",
       "      <td>203</td>\n",
       "      <td>PHI</td>\n",
       "      <td>TOR</td>\n",
       "      <td>90.9</td>\n",
       "      <td>90.9</td>\n",
       "      <td>...</td>\n",
       "      <td>.573</td>\n",
       "      <td>.188</td>\n",
       "      <td>.200</td>\n",
       "      <td>64.3</td>\n",
       "      <td>44.6</td>\n",
       "      <td>56.1</td>\n",
       "      <td>8.8</td>\n",
       "      <td>6.2</td>\n",
       "      <td>100.0</td>\n",
       "      <td>106.8</td>\n",
       "    </tr>\n",
       "    <tr>\n",
       "      <th>4</th>\n",
       "      <td>20071031</td>\n",
       "      <td>200.0</td>\n",
       "      <td>203.5</td>\n",
       "      <td>0708</td>\n",
       "      <td>20071031Indiana</td>\n",
       "      <td>229</td>\n",
       "      <td>WAS</td>\n",
       "      <td>IND</td>\n",
       "      <td>98.4</td>\n",
       "      <td>98.4</td>\n",
       "      <td>...</td>\n",
       "      <td>.552</td>\n",
       "      <td>.315</td>\n",
       "      <td>.391</td>\n",
       "      <td>64.6</td>\n",
       "      <td>50.0</td>\n",
       "      <td>52.6</td>\n",
       "      <td>11.0</td>\n",
       "      <td>7.6</td>\n",
       "      <td>100.0</td>\n",
       "      <td>101.2</td>\n",
       "    </tr>\n",
       "    <tr>\n",
       "      <th>...</th>\n",
       "      <td>...</td>\n",
       "      <td>...</td>\n",
       "      <td>...</td>\n",
       "      <td>...</td>\n",
       "      <td>...</td>\n",
       "      <td>...</td>\n",
       "      <td>...</td>\n",
       "      <td>...</td>\n",
       "      <td>...</td>\n",
       "      <td>...</td>\n",
       "      <td>...</td>\n",
       "      <td>...</td>\n",
       "      <td>...</td>\n",
       "      <td>...</td>\n",
       "      <td>...</td>\n",
       "      <td>...</td>\n",
       "      <td>...</td>\n",
       "      <td>...</td>\n",
       "      <td>...</td>\n",
       "      <td>...</td>\n",
       "      <td>...</td>\n",
       "    </tr>\n",
       "    <tr>\n",
       "      <th>15010</th>\n",
       "      <td>20190602</td>\n",
       "      <td>216.0</td>\n",
       "      <td>213.5</td>\n",
       "      <td>1819</td>\n",
       "      <td>20190602Toronto</td>\n",
       "      <td>213</td>\n",
       "      <td>GSW</td>\n",
       "      <td>TOR</td>\n",
       "      <td>100.0</td>\n",
       "      <td>100.0</td>\n",
       "      <td>...</td>\n",
       "      <td>.493</td>\n",
       "      <td>.404</td>\n",
       "      <td>.277</td>\n",
       "      <td>85.0</td>\n",
       "      <td>53.8</td>\n",
       "      <td>48.6</td>\n",
       "      <td>8.0</td>\n",
       "      <td>4.2</td>\n",
       "      <td>100.0</td>\n",
       "      <td>109.0</td>\n",
       "    </tr>\n",
       "    <tr>\n",
       "      <th>15011</th>\n",
       "      <td>20190605</td>\n",
       "      <td>214.0</td>\n",
       "      <td>209.5</td>\n",
       "      <td>1819</td>\n",
       "      <td>20190605GoldenState</td>\n",
       "      <td>232</td>\n",
       "      <td>TOR</td>\n",
       "      <td>GSW</td>\n",
       "      <td>99.6</td>\n",
       "      <td>99.6</td>\n",
       "      <td>...</td>\n",
       "      <td>.523</td>\n",
       "      <td>.396</td>\n",
       "      <td>.330</td>\n",
       "      <td>84.8</td>\n",
       "      <td>50.6</td>\n",
       "      <td>69.4</td>\n",
       "      <td>8.0</td>\n",
       "      <td>6.8</td>\n",
       "      <td>100.0</td>\n",
       "      <td>123.5</td>\n",
       "    </tr>\n",
       "    <tr>\n",
       "      <th>15012</th>\n",
       "      <td>20190607</td>\n",
       "      <td>216.0</td>\n",
       "      <td>215.0</td>\n",
       "      <td>1819</td>\n",
       "      <td>20190607GoldenState</td>\n",
       "      <td>197</td>\n",
       "      <td>TOR</td>\n",
       "      <td>GSW</td>\n",
       "      <td>94.8</td>\n",
       "      <td>94.8</td>\n",
       "      <td>...</td>\n",
       "      <td>.527</td>\n",
       "      <td>.346</td>\n",
       "      <td>.269</td>\n",
       "      <td>82.9</td>\n",
       "      <td>51.9</td>\n",
       "      <td>74.3</td>\n",
       "      <td>6.3</td>\n",
       "      <td>11.1</td>\n",
       "      <td>100.0</td>\n",
       "      <td>110.7</td>\n",
       "    </tr>\n",
       "    <tr>\n",
       "      <th>15013</th>\n",
       "      <td>20190610</td>\n",
       "      <td>212.0</td>\n",
       "      <td>217.0</td>\n",
       "      <td>1819</td>\n",
       "      <td>20190610Toronto</td>\n",
       "      <td>211</td>\n",
       "      <td>GSW</td>\n",
       "      <td>TOR</td>\n",
       "      <td>94.3</td>\n",
       "      <td>94.3</td>\n",
       "      <td>...</td>\n",
       "      <td>.542</td>\n",
       "      <td>.376</td>\n",
       "      <td>.318</td>\n",
       "      <td>83.3</td>\n",
       "      <td>53.8</td>\n",
       "      <td>50.0</td>\n",
       "      <td>6.4</td>\n",
       "      <td>12.5</td>\n",
       "      <td>100.0</td>\n",
       "      <td>112.4</td>\n",
       "    </tr>\n",
       "    <tr>\n",
       "      <th>15014</th>\n",
       "      <td>20190613</td>\n",
       "      <td>211.0</td>\n",
       "      <td>211.5</td>\n",
       "      <td>1819</td>\n",
       "      <td>20190613GoldenState</td>\n",
       "      <td>224</td>\n",
       "      <td>TOR</td>\n",
       "      <td>GSW</td>\n",
       "      <td>94.6</td>\n",
       "      <td>94.6</td>\n",
       "      <td>...</td>\n",
       "      <td>.590</td>\n",
       "      <td>.388</td>\n",
       "      <td>.375</td>\n",
       "      <td>73.8</td>\n",
       "      <td>51.9</td>\n",
       "      <td>71.8</td>\n",
       "      <td>9.5</td>\n",
       "      <td>12.2</td>\n",
       "      <td>100.0</td>\n",
       "      <td>120.5</td>\n",
       "    </tr>\n",
       "  </tbody>\n",
       "</table>\n",
       "<p>15015 rows × 72 columns</p>\n",
       "</div>"
      ],
      "text/plain": [
       "           Date  O/U_open  O/U_close Season                   id  total away  \\\n",
       "0      20071030     184.0      189.5   0708   20071030SanAntonio    203  POR   \n",
       "1      20071030     214.5      212.0   0708  20071030GoldenState    213  UTA   \n",
       "2      20071030     191.0      199.0   0708     20071030LALakers    188  HOU   \n",
       "3      20071031     190.0      191.0   0708      20071031Toronto    203  PHI   \n",
       "4      20071031     200.0      203.5   0708      20071031Indiana    229  WAS   \n",
       "...         ...       ...        ...    ...                  ...    ...  ...   \n",
       "15010  20190602     216.0      213.5   1819      20190602Toronto    213  GSW   \n",
       "15011  20190605     214.0      209.5   1819  20190605GoldenState    232  TOR   \n",
       "15012  20190607     216.0      215.0   1819  20190607GoldenState    197  TOR   \n",
       "15013  20190610     212.0      217.0   1819      20190610Toronto    211  GSW   \n",
       "15014  20190613     211.0      211.5   1819  20190613GoldenState    224  TOR   \n",
       "\n",
       "      home pace_v pace_h  ... ts_per_h threes_ar_h ft_ar_h drb_per_h  \\\n",
       "0      SAS   91.8   91.8  ...     .538        .276    .299      77.8   \n",
       "1      GSW  105.1  105.1  ...     .512        .299    .494      65.2   \n",
       "2      LAL   93.0   93.0  ...     .485        .105    .592      68.4   \n",
       "3      TOR   90.9   90.9  ...     .573        .188    .200      64.3   \n",
       "4      IND   98.4   98.4  ...     .552        .315    .391      64.6   \n",
       "...    ...    ...    ...  ...      ...         ...     ...       ...   \n",
       "15010  TOR  100.0  100.0  ...     .493        .404    .277      85.0   \n",
       "15011  GSW   99.6   99.6  ...     .523        .396    .330      84.8   \n",
       "15012  GSW   94.8   94.8  ...     .527        .346    .269      82.9   \n",
       "15013  TOR   94.3   94.3  ...     .542        .376    .318      83.3   \n",
       "15014  GSW   94.6   94.6  ...     .590        .388    .375      73.8   \n",
       "\n",
       "      trb_per_h ast_per_h stl_per_h blk_per_h user_per_h drtg_h  \n",
       "0          50.0      51.2       8.7       6.2      100.0  105.7  \n",
       "1          39.8      59.4       7.6      11.4      100.0  111.3  \n",
       "2          43.0      56.3      17.2       5.8      100.0  102.1  \n",
       "3          44.6      56.1       8.8       6.2      100.0  106.8  \n",
       "4          50.0      52.6      11.0       7.6      100.0  101.2  \n",
       "...         ...       ...       ...       ...        ...    ...  \n",
       "15010      53.8      48.6       8.0       4.2      100.0  109.0  \n",
       "15011      50.6      69.4       8.0       6.8      100.0  123.5  \n",
       "15012      51.9      74.3       6.3      11.1      100.0  110.7  \n",
       "15013      53.8      50.0       6.4      12.5      100.0  112.4  \n",
       "15014      51.9      71.8       9.5      12.2      100.0  120.5  \n",
       "\n",
       "[15015 rows x 72 columns]"
      ]
     },
     "execution_count": 34,
     "metadata": {},
     "output_type": "execute_result"
    }
   ],
   "source": [
    "df"
   ]
  },
  {
   "cell_type": "markdown",
   "metadata": {},
   "source": [
    "Getting the difference between the line and the outcome of a particular game in order to classify our game as an \"Over\" or \"Under\"."
   ]
  },
  {
   "cell_type": "code",
   "execution_count": 35,
   "metadata": {},
   "outputs": [],
   "source": [
    "df['ou1'] = df['total'] - df['O/U_open']\n",
    "df['ou2'] = df['total'] - df['O/U_close']"
   ]
  },
  {
   "cell_type": "markdown",
   "metadata": {},
   "source": [
    "Function to label our target based off information we have in our DataFrame, and then applying that function to our newly created columns that currently classify our games based on a positive or negative value. This simply puts a more general categorical label over that more granular scalar indicator."
   ]
  },
  {
   "cell_type": "code",
   "execution_count": 36,
   "metadata": {},
   "outputs": [],
   "source": [
    "def over_under(ou):\n",
    "    if ou > 0:\n",
    "        return 1\n",
    "    elif ou == 0:\n",
    "        return 2\n",
    "    else:\n",
    "        return 0"
   ]
  },
  {
   "cell_type": "code",
   "execution_count": 37,
   "metadata": {},
   "outputs": [],
   "source": [
    "df['Over/Under_open'] = df['ou1'].apply(over_under)\n",
    "df['Over/Under_close'] = df['ou2'].apply(over_under)"
   ]
  },
  {
   "cell_type": "markdown",
   "metadata": {},
   "source": [
    "CRITICAL ASSUMPTION: Making the decision to drop \"pushes\". A \"push\" is when a betting line is hit exactly, and no money exchanges hands. In the context of this project, a total could be at 212 points, and if the game finishes with exactly 212 points, then every bettor gets their money back, on both sides (over/under 212), and the sportsbook doesn't collect anything."
   ]
  },
  {
   "cell_type": "code",
   "execution_count": 38,
   "metadata": {},
   "outputs": [],
   "source": [
    "df = df[df['Over/Under_open'] != 2]\n",
    "df = df[df['Over/Under_close'] != 2]"
   ]
  },
  {
   "cell_type": "markdown",
   "metadata": {},
   "source": [
    "About 400 instances of a \"push\", or about 2.7% of our original dataset. This number can be remembered for sampling or simulation purposes later."
   ]
  },
  {
   "cell_type": "markdown",
   "metadata": {},
   "source": [
    "Convert date to pd.datetime object. Makes plotting the time series compatible with matplotlib, and building season dictionary later."
   ]
  },
  {
   "cell_type": "code",
   "execution_count": 39,
   "metadata": {},
   "outputs": [],
   "source": [
    "df['Date'] = pd.to_datetime(df['Date'], format='%Y%m%d')"
   ]
  },
  {
   "cell_type": "markdown",
   "metadata": {},
   "source": [
    "### Stat building (feature engineering)"
   ]
  },
  {
   "cell_type": "markdown",
   "metadata": {},
   "source": [
    "We want to ultimately end up with a model that takes both teams' recent performances and can make a prediction on the total, so we can make a new column to hold home/visitor every other row, and then rename the _h and _v columns for self, opponent."
   ]
  },
  {
   "cell_type": "code",
   "execution_count": 40,
   "metadata": {},
   "outputs": [],
   "source": [
    "d = df.reindex(df.index.repeat(2)).reset_index(drop=True)"
   ]
  },
  {
   "cell_type": "markdown",
   "metadata": {},
   "source": [
    "Now that we have every game repeated, let's create a column to indicate which team these self/opponent stats represent. We can do this by creating an empty column and selectively copy from the 'home' and 'away' columns that repeat across the 2 rows. Then we'll do that same for the opponent."
   ]
  },
  {
   "cell_type": "code",
   "execution_count": 41,
   "metadata": {},
   "outputs": [
    {
     "name": "stderr",
     "output_type": "stream",
     "text": [
      "<ipython-input-41-d36efb69a2a0>:3: SettingWithCopyWarning: \n",
      "A value is trying to be set on a copy of a slice from a DataFrame\n",
      "\n",
      "See the caveats in the documentation: https://pandas.pydata.org/pandas-docs/stable/user_guide/indexing.html#returning-a-view-versus-a-copy\n",
      "  d['team'][::2] = d['home'][::2]\n",
      "<ipython-input-41-d36efb69a2a0>:5: SettingWithCopyWarning: \n",
      "A value is trying to be set on a copy of a slice from a DataFrame\n",
      "\n",
      "See the caveats in the documentation: https://pandas.pydata.org/pandas-docs/stable/user_guide/indexing.html#returning-a-view-versus-a-copy\n",
      "  d['team'][1::2] = d['away'][1::2]\n"
     ]
    }
   ],
   "source": [
    "d['team'] = np.nan\n",
    "#home team will be all even indexes of this dataset\n",
    "d['team'][::2] = d['home'][::2]\n",
    "#away team will be all odd indexes of this dataset\n",
    "d['team'][1::2] = d['away'][1::2]"
   ]
  },
  {
   "cell_type": "code",
   "execution_count": 42,
   "metadata": {},
   "outputs": [
    {
     "name": "stderr",
     "output_type": "stream",
     "text": [
      "<ipython-input-42-84f043bae77b>:2: SettingWithCopyWarning: \n",
      "A value is trying to be set on a copy of a slice from a DataFrame\n",
      "\n",
      "See the caveats in the documentation: https://pandas.pydata.org/pandas-docs/stable/user_guide/indexing.html#returning-a-view-versus-a-copy\n",
      "  d['opp'][::2] = d['away'][::2]\n",
      "<ipython-input-42-84f043bae77b>:3: SettingWithCopyWarning: \n",
      "A value is trying to be set on a copy of a slice from a DataFrame\n",
      "\n",
      "See the caveats in the documentation: https://pandas.pydata.org/pandas-docs/stable/user_guide/indexing.html#returning-a-view-versus-a-copy\n",
      "  d['opp'][1::2] = d['home'][1::2]\n"
     ]
    }
   ],
   "source": [
    "d['opp'] = np.nan\n",
    "d['opp'][::2] = d['away'][::2]\n",
    "d['opp'][1::2] = d['home'][1::2]"
   ]
  },
  {
   "cell_type": "markdown",
   "metadata": {},
   "source": [
    "Let's keep track of home/away, can't hurt. We'll use the same process as we just used. Note: this can also be used as a sanity check to make sure that our splitting worked correctly. If it did, we should see 'H', 'V' every other row."
   ]
  },
  {
   "cell_type": "code",
   "execution_count": 43,
   "metadata": {},
   "outputs": [
    {
     "name": "stderr",
     "output_type": "stream",
     "text": [
      "<ipython-input-43-915be6e0f5cd>:3: SettingWithCopyWarning: \n",
      "A value is trying to be set on a copy of a slice from a DataFrame\n",
      "\n",
      "See the caveats in the documentation: https://pandas.pydata.org/pandas-docs/stable/user_guide/indexing.html#returning-a-view-versus-a-copy\n",
      "  d['home/away'][::2] = 'H'\n",
      "<ipython-input-43-915be6e0f5cd>:5: SettingWithCopyWarning: \n",
      "A value is trying to be set on a copy of a slice from a DataFrame\n",
      "\n",
      "See the caveats in the documentation: https://pandas.pydata.org/pandas-docs/stable/user_guide/indexing.html#returning-a-view-versus-a-copy\n",
      "  d['home/away'][1::2] = 'V'\n"
     ]
    }
   ],
   "source": [
    "d['home/away'] = np.nan\n",
    "#home team will be all even indexes of this dataset\n",
    "d['home/away'][::2] = 'H'\n",
    "#away team will be all odd indexes of this dataset\n",
    "d['home/away'][1::2] = 'V'"
   ]
  },
  {
   "cell_type": "markdown",
   "metadata": {},
   "source": [
    "Now we have to map the _v and _h stats appropriate to new columns for self or opponent stats."
   ]
  },
  {
   "cell_type": "code",
   "execution_count": 44,
   "metadata": {},
   "outputs": [
    {
     "name": "stderr",
     "output_type": "stream",
     "text": [
      "<ipython-input-44-7aa6dc08b0bf>:6: SettingWithCopyWarning: \n",
      "A value is trying to be set on a copy of a slice from a DataFrame\n",
      "\n",
      "See the caveats in the documentation: https://pandas.pydata.org/pandas-docs/stable/user_guide/indexing.html#returning-a-view-versus-a-copy\n",
      "  d['{}'.format(stat)][::2] = d['{}_h'.format(stat)][::2]\n",
      "<ipython-input-44-7aa6dc08b0bf>:7: SettingWithCopyWarning: \n",
      "A value is trying to be set on a copy of a slice from a DataFrame\n",
      "\n",
      "See the caveats in the documentation: https://pandas.pydata.org/pandas-docs/stable/user_guide/indexing.html#returning-a-view-versus-a-copy\n",
      "  d['{}'.format(stat)][1::2] = d['{}_v'.format(stat)][1::2]\n",
      "<ipython-input-44-7aa6dc08b0bf>:9: SettingWithCopyWarning: \n",
      "A value is trying to be set on a copy of a slice from a DataFrame\n",
      "\n",
      "See the caveats in the documentation: https://pandas.pydata.org/pandas-docs/stable/user_guide/indexing.html#returning-a-view-versus-a-copy\n",
      "  d['{}_opp'.format(stat)][::2] = d['{}_v'.format(stat)][::2]\n",
      "<ipython-input-44-7aa6dc08b0bf>:10: SettingWithCopyWarning: \n",
      "A value is trying to be set on a copy of a slice from a DataFrame\n",
      "\n",
      "See the caveats in the documentation: https://pandas.pydata.org/pandas-docs/stable/user_guide/indexing.html#returning-a-view-versus-a-copy\n",
      "  d['{}_opp'.format(stat)][1::2] = d['{}_h'.format(stat)][1::2]\n"
     ]
    }
   ],
   "source": [
    "stats = ['pace','eFg','tov','orb','ft_fga','ortg','fg','fga','fg_per','threes','threes_att','threes_per',\n",
    "         'ft','fta','ft_per','drb','trb','ast','stl','blk','to','fouls','ts_per','threes_ar','ft_ar',\n",
    "         'drb_per','trb_per','ast_per','stl_per','blk_per','user_per','drtg']\n",
    "for stat in stats:\n",
    "    d['{}'.format(stat)] = \"\"\n",
    "    d['{}'.format(stat)][::2] = d['{}_h'.format(stat)][::2]\n",
    "    d['{}'.format(stat)][1::2] = d['{}_v'.format(stat)][1::2]\n",
    "    d['{}_opp'.format(stat)] = \"\"\n",
    "    d['{}_opp'.format(stat)][::2] = d['{}_v'.format(stat)][::2]\n",
    "    d['{}_opp'.format(stat)][1::2] = d['{}_h'.format(stat)][1::2]"
   ]
  },
  {
   "cell_type": "markdown",
   "metadata": {},
   "source": [
    "Then we can drop all of our columns with '_v' & '_h' since they contain extra, and now, redundant information."
   ]
  },
  {
   "cell_type": "code",
   "execution_count": 45,
   "metadata": {},
   "outputs": [],
   "source": [
    "mylist = []\n",
    "for stat in stats:\n",
    "    mylist.append('{}_v'.format(stat))\n",
    "    mylist.append('{}_h'.format(stat))\n",
    "#print(mylist)\n",
    "d = d.drop(columns=mylist)"
   ]
  },
  {
   "cell_type": "markdown",
   "metadata": {},
   "source": [
    "Now our DataFrame (d) has stats for each team and their opponent for every game. Now let's get some rolling averages. First we'll create an empty column that we'll populate with a rolling count for every time that team has appeared. This will get us the number of games each team has played up INCLUDING that game for each season. We can use that info to incorporate some rolling averages."
   ]
  },
  {
   "cell_type": "code",
   "execution_count": 46,
   "metadata": {},
   "outputs": [],
   "source": [
    "d['team_season'] = d['team'] + d['Season']"
   ]
  },
  {
   "cell_type": "code",
   "execution_count": 47,
   "metadata": {},
   "outputs": [],
   "source": [
    "d['game_num'] = d.groupby('team_season').cumcount()+1"
   ]
  },
  {
   "cell_type": "markdown",
   "metadata": {},
   "source": [
    "Now we are ready to compute some rolling average's in a certain season. Remember, we want to get a snapshot of how both team's have perfromed recently (last 5 games), and get a classification from this info. So let's go back to our method of creating empty columns we can assign data to."
   ]
  },
  {
   "cell_type": "code",
   "execution_count": 48,
   "metadata": {},
   "outputs": [],
   "source": [
    "for stat in d.iloc[:,15:79]:\n",
    "    d['{}_rolling'.format(stat)] = np.nan"
   ]
  },
  {
   "cell_type": "markdown",
   "metadata": {},
   "source": [
    "Cast our stat columns as floats to perform some operations on them."
   ]
  },
  {
   "cell_type": "code",
   "execution_count": 49,
   "metadata": {},
   "outputs": [],
   "source": [
    "for col in d.iloc[:,15:79].columns:\n",
    "    d[col] = d[col].astype('float')"
   ]
  },
  {
   "cell_type": "markdown",
   "metadata": {},
   "source": [
    "This may not be the most pythonic way to populate these new columns, but it works, and doesn't take long. At a high level, we are going team by team, then season by season, for that team, and applying 5 game rolling averages to their stats and opponent stats."
   ]
  },
  {
   "cell_type": "code",
   "execution_count": 50,
   "metadata": {},
   "outputs": [
    {
     "name": "stderr",
     "output_type": "stream",
     "text": [
      "<ipython-input-50-c08446ecdd24>:8: SettingWithCopyWarning: \n",
      "A value is trying to be set on a copy of a slice from a DataFrame.\n",
      "Try using .loc[row_indexer,col_indexer] = value instead\n",
      "\n",
      "See the caveats in the documentation: https://pandas.pydata.org/pandas-docs/stable/user_guide/indexing.html#returning-a-view-versus-a-copy\n",
      "  d5['{}_rolling'.format(stat)] = d5.rolling(window=5)['{}'.format(stat)].mean().shift(1)\n"
     ]
    }
   ],
   "source": [
    "for team in d['team'].unique():\n",
    "    mask = d['team'] == team\n",
    "    d4 = d[mask]\n",
    "    for season in d4['Season'].unique():\n",
    "        mask = d4['Season'] == '{}'.format(season)\n",
    "        d5 = d4[mask]\n",
    "        for stat in list(d5.iloc[:,15:79].columns):\n",
    "            d5['{}_rolling'.format(stat)] = d5.rolling(window=5)['{}'.format(stat)].mean().shift(1)\n",
    "        d.update(d5)"
   ]
  },
  {
   "cell_type": "markdown",
   "metadata": {},
   "source": [
    "IMPORTANT NOTE: this DataFrame contains rows with NaN's. Every game that is in the first 5 of the season has no rolling averages, this can be problematic when we take this DataFrame and try to feed it into a sk-learn ML model. We can address this now, by simply dropping these games(~5% of our dataset), or apply the previous season's median rolling average. This is where some decisions need to be made, and I would advise just dropping the games for 2 reasons. One, taking out 5 games won't change the application our model will have as there are 67-75 games left in the year we can apply this model to once in production. Two, a median of the rolling averages, or any other kind of congregation statistic being applied over different seasons is mostly likely not a sound choice in light of team personnel turnover, from retirings, trades, the draft, and free agent moves; not to mention new coaching staffs. This could be applicable to a few teams (ones that experience little of this roster turnover), but not enough to apply that thinking across the entire dataset."
   ]
  },
  {
   "cell_type": "code",
   "execution_count": null,
   "metadata": {},
   "outputs": [],
   "source": []
  },
  {
   "cell_type": "code",
   "execution_count": null,
   "metadata": {},
   "outputs": [],
   "source": [
    "d[d['game_num']>5]"
   ]
  },
  {
   "cell_type": "markdown",
   "metadata": {},
   "source": [
    "Now that our data is fully processed, we are ready to process this in a classification algorithm"
   ]
  },
  {
   "cell_type": "code",
   "execution_count": null,
   "metadata": {},
   "outputs": [],
   "source": [
    "with open('df.pickle', 'wb') as to_write:\n",
    "    pickle.dump(df, to_write)"
   ]
  },
  {
   "cell_type": "markdown",
   "metadata": {},
   "source": [
    "## Scratch Work"
   ]
  },
  {
   "cell_type": "code",
   "execution_count": null,
   "metadata": {},
   "outputs": [],
   "source": [
    "df = pd.read_csv(files[2])"
   ]
  },
  {
   "cell_type": "code",
   "execution_count": null,
   "metadata": {
    "scrolled": true
   },
   "outputs": [],
   "source": [
    "df.head()"
   ]
  },
  {
   "cell_type": "code",
   "execution_count": null,
   "metadata": {},
   "outputs": [],
   "source": [
    "df.info()"
   ]
  },
  {
   "cell_type": "code",
   "execution_count": null,
   "metadata": {},
   "outputs": [],
   "source": [
    "df = df.iloc[:,:13]"
   ]
  },
  {
   "cell_type": "code",
   "execution_count": null,
   "metadata": {
    "scrolled": true
   },
   "outputs": [],
   "source": [
    "df.info()"
   ]
  },
  {
   "cell_type": "code",
   "execution_count": null,
   "metadata": {
    "scrolled": true
   },
   "outputs": [],
   "source": [
    "pd.set_option(\"display.max_columns\", 101)\n",
    "pd.set_option(\"display.max_rows\", 101)"
   ]
  },
  {
   "cell_type": "code",
   "execution_count": null,
   "metadata": {},
   "outputs": [],
   "source": [
    "df.shape[0]"
   ]
  },
  {
   "cell_type": "code",
   "execution_count": null,
   "metadata": {},
   "outputs": [],
   "source": [
    "mylist = []\n",
    "for i in range(1, int(df.shape[0]/2 + 1)):\n",
    "    mylist.append(i)\n",
    "    mylist.append(i)\n",
    "print(mylist[0],mylist[-1])"
   ]
  },
  {
   "cell_type": "code",
   "execution_count": null,
   "metadata": {},
   "outputs": [],
   "source": [
    "len(range(1,int(df.shape[0]/2 + 1)))"
   ]
  },
  {
   "cell_type": "code",
   "execution_count": null,
   "metadata": {
    "scrolled": false
   },
   "outputs": [],
   "source": [
    "df['game_id'] = mylist"
   ]
  },
  {
   "cell_type": "code",
   "execution_count": null,
   "metadata": {},
   "outputs": [],
   "source": [
    "df.dropna(axis=0,inplace=True)"
   ]
  },
  {
   "cell_type": "code",
   "execution_count": null,
   "metadata": {},
   "outputs": [],
   "source": [
    "df.info()"
   ]
  },
  {
   "cell_type": "code",
   "execution_count": null,
   "metadata": {
    "scrolled": true
   },
   "outputs": [],
   "source": [
    "df = df.merge(df, on='game_id', suffixes=(None,'_2'))"
   ]
  },
  {
   "cell_type": "code",
   "execution_count": null,
   "metadata": {},
   "outputs": [],
   "source": [
    "df"
   ]
  },
  {
   "cell_type": "code",
   "execution_count": null,
   "metadata": {},
   "outputs": [],
   "source": [
    "df = df[1::4]\n",
    "df.reset_index(drop=True, inplace=True)"
   ]
  },
  {
   "cell_type": "code",
   "execution_count": null,
   "metadata": {
    "scrolled": false
   },
   "outputs": [],
   "source": [
    "df"
   ]
  },
  {
   "cell_type": "code",
   "execution_count": null,
   "metadata": {},
   "outputs": [],
   "source": [
    "#sanity check that every game only appears once\n",
    "df['game_id']"
   ]
  },
  {
   "cell_type": "code",
   "execution_count": null,
   "metadata": {},
   "outputs": [],
   "source": [
    "df['Date'] = df['Date'].astype('int')\n",
    "df['Date']"
   ]
  },
  {
   "cell_type": "code",
   "execution_count": null,
   "metadata": {
    "scrolled": true
   },
   "outputs": [],
   "source": [
    "df['Date'] = df['Date'].astype('str')\n",
    "df['Date']"
   ]
  },
  {
   "cell_type": "code",
   "execution_count": null,
   "metadata": {},
   "outputs": [],
   "source": [
    "df['Date'] = df['Date'].str.strip('.0')"
   ]
  },
  {
   "cell_type": "code",
   "execution_count": null,
   "metadata": {},
   "outputs": [],
   "source": [
    "df['Date'].head"
   ]
  },
  {
   "cell_type": "code",
   "execution_count": null,
   "metadata": {},
   "outputs": [],
   "source": [
    "dates = []\n",
    "for date in df['Date']:\n",
    "    if int(date) > 1000:\n",
    "        date = '20'+files[2][:2]+date\n",
    "        dates.append(date)\n",
    "    else:\n",
    "        date = '20'+files[2][3:5]+'0'+date\n",
    "        dates.append(date)\n",
    "df['Date'] = dates"
   ]
  },
  {
   "cell_type": "code",
   "execution_count": null,
   "metadata": {},
   "outputs": [],
   "source": [
    "df['Date']"
   ]
  },
  {
   "cell_type": "code",
   "execution_count": null,
   "metadata": {
    "scrolled": false
   },
   "outputs": [],
   "source": [
    "df"
   ]
  },
  {
   "cell_type": "code",
   "execution_count": null,
   "metadata": {
    "scrolled": false
   },
   "outputs": [],
   "source": [
    "df['Visitor'] = df['Team']\n",
    "df['Home'] = df['Team_2']\n",
    "df"
   ]
  },
  {
   "cell_type": "code",
   "execution_count": null,
   "metadata": {},
   "outputs": [],
   "source": [
    "df['Open'].replace('pk','0',inplace=True)\n",
    "df['Close'].replace('pk','0',inplace=True)\n",
    "df['Open_2'].replace('pk','0',inplace=True)\n",
    "df['Close_2'].replace('pk','0',inplace=True)\n",
    "df.replace('197.5u10','197.5',inplace=True)"
   ]
  },
  {
   "cell_type": "code",
   "execution_count": null,
   "metadata": {},
   "outputs": [],
   "source": [
    "mask = df['Open'].values == 'pk'\n",
    "df[mask]"
   ]
  },
  {
   "cell_type": "code",
   "execution_count": null,
   "metadata": {
    "scrolled": true
   },
   "outputs": [],
   "source": [
    "df['Open'] = df['Open'].astype('float')\n",
    "df['Open_2'] = df['Open_2'].astype('float')\n",
    "df['Close'] = df['Close'].astype('float')\n",
    "df['Close_2'] = df['Close_2'].astype('float')"
   ]
  },
  {
   "cell_type": "code",
   "execution_count": null,
   "metadata": {
    "scrolled": false
   },
   "outputs": [],
   "source": [
    "df['O/U_open'] = np.where(df['Open'] > df['Open_2'],df['Open'],df['Open_2'])\n",
    "df"
   ]
  },
  {
   "cell_type": "code",
   "execution_count": null,
   "metadata": {},
   "outputs": [],
   "source": [
    "df['O/U_close'] = np.where(df['Close'] > df['Close_2'],df['Close'],df['Close_2'])\n",
    "df"
   ]
  },
  {
   "cell_type": "markdown",
   "metadata": {},
   "source": [
    "Sanity check that opening and closing lines operations worked successfully.\n",
    "So long as numbers are around 200, we know we are ok."
   ]
  },
  {
   "cell_type": "code",
   "execution_count": null,
   "metadata": {},
   "outputs": [],
   "source": [
    "df['O/U_open'].min()"
   ]
  },
  {
   "cell_type": "code",
   "execution_count": null,
   "metadata": {},
   "outputs": [],
   "source": [
    "df['O/U_close'].min()"
   ]
  },
  {
   "cell_type": "code",
   "execution_count": null,
   "metadata": {},
   "outputs": [],
   "source": [
    "df = df[['Date','Home','Visitor','O/U_open','O/U_close']]\n",
    "df"
   ]
  },
  {
   "cell_type": "markdown",
   "metadata": {},
   "source": [
    "### Processing our lines df"
   ]
  },
  {
   "cell_type": "markdown",
   "metadata": {},
   "source": [
    "First, and most importantly, we must create our target labels. This will be done by comparing the total the the opening and closing lines, and mapping that result to one of three categories: Over, Under, or Push. This will represent the winning result of that game."
   ]
  },
  {
   "cell_type": "code",
   "execution_count": null,
   "metadata": {},
   "outputs": [],
   "source": [
    "df"
   ]
  },
  {
   "cell_type": "code",
   "execution_count": null,
   "metadata": {},
   "outputs": [],
   "source": [
    "df['ou1'] = df['total'] - df['O/U_open']\n",
    "df['ou2'] = df['total'] - df['O/U_close']"
   ]
  },
  {
   "cell_type": "code",
   "execution_count": null,
   "metadata": {},
   "outputs": [],
   "source": [
    "df"
   ]
  },
  {
   "cell_type": "code",
   "execution_count": null,
   "metadata": {},
   "outputs": [],
   "source": [
    "def over_under(ou):\n",
    "    if ou > 0:\n",
    "        return 1\n",
    "    elif ou == 0:\n",
    "        return 2\n",
    "    else:\n",
    "        return 0"
   ]
  },
  {
   "cell_type": "code",
   "execution_count": null,
   "metadata": {},
   "outputs": [],
   "source": [
    "df['Over/Under_open'] = df['ou1'].apply(over_under)\n",
    "df['Over/Under_close'] = df['ou2'].apply(over_under)"
   ]
  },
  {
   "cell_type": "code",
   "execution_count": null,
   "metadata": {
    "scrolled": false
   },
   "outputs": [],
   "source": [
    "df"
   ]
  },
  {
   "cell_type": "markdown",
   "metadata": {},
   "source": [
    "Making the decision to drop pushes as no money exchanges hands in this scenerio."
   ]
  },
  {
   "cell_type": "code",
   "execution_count": null,
   "metadata": {},
   "outputs": [],
   "source": [
    "df = df[df['Over/Under_open'] != 2]\n",
    "df = df[df['Over/Under_close'] != 2]"
   ]
  },
  {
   "cell_type": "code",
   "execution_count": null,
   "metadata": {
    "scrolled": false
   },
   "outputs": [],
   "source": [
    "df"
   ]
  },
  {
   "cell_type": "markdown",
   "metadata": {},
   "source": [
    "About 400 instances of a push, or about 2.7% of our original dataset. This number can be remembered for sampling or simulation purposes later."
   ]
  },
  {
   "cell_type": "code",
   "execution_count": null,
   "metadata": {},
   "outputs": [],
   "source": []
  },
  {
   "cell_type": "markdown",
   "metadata": {},
   "source": [
    "### Stat Building"
   ]
  },
  {
   "cell_type": "markdown",
   "metadata": {},
   "source": [
    "We have the same set of stats for both teams in any one game, so we can build offense/defense for both teams."
   ]
  },
  {
   "cell_type": "code",
   "execution_count": null,
   "metadata": {},
   "outputs": [],
   "source": [
    "'''map stats accordingly:\n",
    "1. Get 2 \"sets\" of stats per game:\n",
    "\n",
    "visitor: offense - _v stat avgs heading into the game; defense - _h stat avgs heading into the game\n",
    "home: offese - _h stat avgs heading into the game; defense - _v stat avgs heading into the game\n",
    "\n",
    "2. Map visitor/home stats to respective teams\n",
    "\n",
    "3. Build dictionary of team's seasons to be further processed.\n",
    "\n",
    "{1415: {GSW: {..game_35:{offense/defense stats},game_36:{..}\n",
    "\n",
    "4. Process dictionary to have more stats/potential model features:\n",
    "\n",
    "{GSW: {..game_35:{offense/defense stats averaged through 34 games},game_36:{..}\n",
    "\n",
    "5. ?\n",
    "\n",
    "'''"
   ]
  },
  {
   "cell_type": "code",
   "execution_count": null,
   "metadata": {},
   "outputs": [],
   "source": [
    "df.info()"
   ]
  },
  {
   "cell_type": "markdown",
   "metadata": {},
   "source": [
    "Convert date to pd.datetime object. May help with building season dictionary later."
   ]
  },
  {
   "cell_type": "code",
   "execution_count": null,
   "metadata": {},
   "outputs": [],
   "source": [
    "df['Date'] = pd.to_datetime(df['Date'], format='%Y%m%d')"
   ]
  },
  {
   "cell_type": "code",
   "execution_count": null,
   "metadata": {},
   "outputs": [],
   "source": [
    "df['Date']"
   ]
  },
  {
   "cell_type": "code",
   "execution_count": null,
   "metadata": {},
   "outputs": [],
   "source": [
    "d = df.reindex(df.index.repeat(2)).reset_index(drop=True)"
   ]
  },
  {
   "cell_type": "markdown",
   "metadata": {},
   "source": [
    "Now that we have every game twice, we can make a new column to hold home/visitor every other row, and then rename the _h and _v columns for self, opponent."
   ]
  },
  {
   "cell_type": "code",
   "execution_count": null,
   "metadata": {},
   "outputs": [],
   "source": [
    "d"
   ]
  },
  {
   "cell_type": "markdown",
   "metadata": {},
   "source": [
    "Let's create the column we want to place our values, then selectively copy."
   ]
  },
  {
   "cell_type": "code",
   "execution_count": null,
   "metadata": {},
   "outputs": [],
   "source": [
    "d['team'] = np.nan"
   ]
  },
  {
   "cell_type": "code",
   "execution_count": null,
   "metadata": {
    "scrolled": true
   },
   "outputs": [],
   "source": [
    "#home team will be all even indexes of this dataset\n",
    "d['team'][::2] = d['home'][::2]"
   ]
  },
  {
   "cell_type": "code",
   "execution_count": null,
   "metadata": {},
   "outputs": [],
   "source": [
    "#away team will be all odd indexes of this dataset\n",
    "d['team'][1::2] = d['away'][1::2]"
   ]
  },
  {
   "cell_type": "code",
   "execution_count": null,
   "metadata": {},
   "outputs": [],
   "source": [
    "d['opp'] = np.nan"
   ]
  },
  {
   "cell_type": "code",
   "execution_count": null,
   "metadata": {},
   "outputs": [],
   "source": [
    "d['opp'][::2] = d['away'][::2]\n",
    "d['opp'][1::2] = d['home'][1::2]"
   ]
  },
  {
   "cell_type": "code",
   "execution_count": null,
   "metadata": {},
   "outputs": [],
   "source": [
    "d[['team','opp']]"
   ]
  },
  {
   "cell_type": "markdown",
   "metadata": {},
   "source": [
    "Let's keep track of home/away, can't hurt. We'll use the same process as we just used."
   ]
  },
  {
   "cell_type": "code",
   "execution_count": null,
   "metadata": {},
   "outputs": [],
   "source": [
    "d['home/away'] = np.nan\n",
    "#home team will be all even indexes of this dataset\n",
    "d['home/away'][::2] = 'H'\n",
    "#away team will be all odd indexes of this dataset\n",
    "d['home/away'][1::2] = 'V'"
   ]
  },
  {
   "cell_type": "code",
   "execution_count": null,
   "metadata": {
    "scrolled": true
   },
   "outputs": [],
   "source": [
    "d.info()"
   ]
  },
  {
   "cell_type": "markdown",
   "metadata": {},
   "source": [
    "Now we have to map the _v and _h stats appropriate to new columns for self or opponent stats."
   ]
  },
  {
   "cell_type": "code",
   "execution_count": null,
   "metadata": {},
   "outputs": [],
   "source": [
    "stats = ['pace','eFg','tov','orb','ft_fga','ortg','fg','fga','fg_per','threes','threes_att','threes_per',\n",
    "         'ft','fta','ft_per','drb','trb','ast','stl','blk','to','fouls','ts_per','threes_ar','ft_ar',\n",
    "         'drb_per','trb_per','ast_per','stl_per','blk_per','user_per','drtg']\n",
    "for stat in stats:\n",
    "    d['{}'.format(stat)] = \"\"\n",
    "    d['{}'.format(stat)][::2] = d['{}_h'.format(stat)][::2]\n",
    "    d['{}'.format(stat)][1::2] = d['{}_v'.format(stat)][1::2]\n",
    "    d['{}_opp'.format(stat)] = \"\"\n",
    "    d['{}_opp'.format(stat)][::2] = d['{}_v'.format(stat)][::2]\n",
    "    d['{}_opp'.format(stat)][1::2] = d['{}_h'.format(stat)][1::2]"
   ]
  },
  {
   "cell_type": "code",
   "execution_count": null,
   "metadata": {
    "scrolled": false
   },
   "outputs": [],
   "source": [
    "mylist = []\n",
    "for stat in stats:\n",
    "    mylist.append('{}_v'.format(stat))\n",
    "    mylist.append('{}_h'.format(stat))\n",
    "#print(mylist)\n",
    "d = d.drop(columns=mylist)"
   ]
  },
  {
   "cell_type": "code",
   "execution_count": null,
   "metadata": {
    "scrolled": true
   },
   "outputs": [],
   "source": [
    "d.info()"
   ]
  },
  {
   "cell_type": "markdown",
   "metadata": {},
   "source": [
    "Now our DataFrame (d) has stats for each team and their opponent for every game. Now let's get some rolling averages."
   ]
  },
  {
   "cell_type": "markdown",
   "metadata": {},
   "source": [
    "First we'll create an empty column that we'll populate with a rolling count for every time that team has appeared. This will get us the number of games each team has played up INCLUDING that game for each season. We can use that info to incorporate some rolling averages."
   ]
  },
  {
   "cell_type": "code",
   "execution_count": null,
   "metadata": {},
   "outputs": [],
   "source": [
    "d['team_season'] = d['team'] + d['Season']"
   ]
  },
  {
   "cell_type": "code",
   "execution_count": null,
   "metadata": {
    "scrolled": true
   },
   "outputs": [],
   "source": [
    "d"
   ]
  },
  {
   "cell_type": "code",
   "execution_count": null,
   "metadata": {},
   "outputs": [],
   "source": [
    "d['game_num'] = d.groupby('team_season').cumcount()+1\n",
    "d"
   ]
  },
  {
   "cell_type": "code",
   "execution_count": null,
   "metadata": {
    "scrolled": true
   },
   "outputs": [],
   "source": [
    "d.info()"
   ]
  },
  {
   "cell_type": "markdown",
   "metadata": {},
   "source": [
    "Cast our stat columns as floats to perform some operations on them."
   ]
  },
  {
   "cell_type": "code",
   "execution_count": null,
   "metadata": {},
   "outputs": [],
   "source": [
    "for col in d.iloc[:,15:79].columns:\n",
    "    d[col] = d[col].astype('float')"
   ]
  },
  {
   "cell_type": "code",
   "execution_count": null,
   "metadata": {
    "scrolled": true
   },
   "outputs": [],
   "source": [
    "d.info()"
   ]
  },
  {
   "cell_type": "code",
   "execution_count": null,
   "metadata": {},
   "outputs": [],
   "source": [
    "d['team_season_game_num'] = d['team_season'] + d['game_num'].astype('str')"
   ]
  },
  {
   "cell_type": "code",
   "execution_count": null,
   "metadata": {},
   "outputs": [],
   "source": [
    "d['team_season_game_num']"
   ]
  },
  {
   "cell_type": "code",
   "execution_count": null,
   "metadata": {},
   "outputs": [],
   "source": [
    "for stat in d.iloc[:,15:79]:\n",
    "    d['{}_rolling'.format(stat)] = np.nan"
   ]
  },
  {
   "cell_type": "code",
   "execution_count": null,
   "metadata": {
    "scrolled": true
   },
   "outputs": [],
   "source": [
    "d.info()"
   ]
  },
  {
   "cell_type": "code",
   "execution_count": null,
   "metadata": {},
   "outputs": [],
   "source": []
  },
  {
   "cell_type": "code",
   "execution_count": null,
   "metadata": {},
   "outputs": [],
   "source": []
  },
  {
   "cell_type": "code",
   "execution_count": null,
   "metadata": {},
   "outputs": [],
   "source": []
  },
  {
   "cell_type": "code",
   "execution_count": null,
   "metadata": {
    "scrolled": true
   },
   "outputs": [],
   "source": [
    "for team in d['team'].unique():\n",
    "    mask = d['team'] == team\n",
    "    d4 = d[mask]\n",
    "    for season in d4['Season'].unique():\n",
    "        mask = d4['Season'] == '{}'.format(season)\n",
    "        d5 = d4[mask]\n",
    "        for stat in list(d5.iloc[:,15:79].columns):\n",
    "            d5['{}_rolling'.format(stat)] = d5.rolling(window=5)['{}'.format(stat)].mean().shift(1)\n",
    "        d.update(d5)"
   ]
  },
  {
   "cell_type": "code",
   "execution_count": null,
   "metadata": {},
   "outputs": [],
   "source": [
    "d[d['game_num']>5]"
   ]
  },
  {
   "cell_type": "markdown",
   "metadata": {},
   "source": [
    "For each team, get a single season, calculate rolling averages, then insert into our DataFrame (d). Necessary since every season has potentially different number of games"
   ]
  },
  {
   "cell_type": "code",
   "execution_count": null,
   "metadata": {},
   "outputs": [],
   "source": [
    "for season in d4['Season'].unique():\n",
    "    mask = d4['Season'] == '{}'.format(season)\n",
    "    d5 = d4[mask]\n",
    "    d5\n",
    "    for stat in list(d5.iloc[:,15:79].columns):\n",
    "        d5['{}_rolling'.format(stat)] = d5.rolling(window=5)['{}'.format(stat)].mean().shift(1)\n",
    "    #print(len(d4[d4['Season'] == '{}'.format(season)]))"
   ]
  },
  {
   "cell_type": "code",
   "execution_count": null,
   "metadata": {
    "scrolled": true
   },
   "outputs": [],
   "source": [
    "d5.columns[82:146]"
   ]
  },
  {
   "cell_type": "code",
   "execution_count": null,
   "metadata": {},
   "outputs": [],
   "source": [
    "d5.index.values"
   ]
  },
  {
   "cell_type": "code",
   "execution_count": null,
   "metadata": {},
   "outputs": [],
   "source": [
    "d5"
   ]
  },
  {
   "cell_type": "code",
   "execution_count": null,
   "metadata": {},
   "outputs": [],
   "source": [
    "d.update(d5)"
   ]
  },
  {
   "cell_type": "code",
   "execution_count": null,
   "metadata": {},
   "outputs": [],
   "source": [
    "d.iloc[28947:28970,:]"
   ]
  },
  {
   "cell_type": "code",
   "execution_count": null,
   "metadata": {},
   "outputs": [],
   "source": [
    "stat_list = list(d3.iloc[:,5:].columns)"
   ]
  },
  {
   "cell_type": "code",
   "execution_count": null,
   "metadata": {},
   "outputs": [],
   "source": [
    "for stat in stat_list:\n",
    "    d3['{}_rolling'.format(stat)] = d3.rolling(window=5)['{}'.format(stat)].mean().shift(1)"
   ]
  },
  {
   "cell_type": "code",
   "execution_count": null,
   "metadata": {},
   "outputs": [],
   "source": [
    "d3"
   ]
  },
  {
   "cell_type": "code",
   "execution_count": null,
   "metadata": {},
   "outputs": [],
   "source": []
  },
  {
   "cell_type": "code",
   "execution_count": null,
   "metadata": {},
   "outputs": [],
   "source": []
  },
  {
   "cell_type": "code",
   "execution_count": null,
   "metadata": {},
   "outputs": [],
   "source": []
  },
  {
   "cell_type": "code",
   "execution_count": null,
   "metadata": {},
   "outputs": [],
   "source": []
  },
  {
   "cell_type": "code",
   "execution_count": null,
   "metadata": {},
   "outputs": [],
   "source": []
  },
  {
   "cell_type": "code",
   "execution_count": null,
   "metadata": {},
   "outputs": [],
   "source": []
  },
  {
   "cell_type": "code",
   "execution_count": null,
   "metadata": {},
   "outputs": [],
   "source": []
  },
  {
   "cell_type": "markdown",
   "metadata": {},
   "source": [
    "## Scratch Work Graveyard"
   ]
  },
  {
   "cell_type": "markdown",
   "metadata": {},
   "source": [
    "Processing to merge datasets graveyard"
   ]
  },
  {
   "cell_type": "code",
   "execution_count": null,
   "metadata": {},
   "outputs": [],
   "source": [
    "#tried self-merging on game_id, but this is only applicable if in different columns\n",
    "#df1 = df1.merge(\n",
    "#            right=df1[opp_pull_cols],\n",
    "#            left_on=[\"game_id\", \"team\"],\n",
    "#            right_on=[\"game_id\", \"opp\"],\n",
    "#            suffixes=[None, \"_opp\"],\n",
    "#        )"
   ]
  },
  {
   "cell_type": "code",
   "execution_count": null,
   "metadata": {
    "scrolled": true
   },
   "outputs": [],
   "source": [
    "#tried to use drop_duplicates method but can only keep first or last\n",
    "#df.drop_duplicates(subset=['game_id'], keep='second')"
   ]
  },
  {
   "cell_type": "markdown",
   "metadata": {},
   "source": [
    "Rolling average graveyard"
   ]
  },
  {
   "cell_type": "code",
   "execution_count": null,
   "metadata": {},
   "outputs": [],
   "source": [
    "#found online, talks about rolling average based on multiple columns, never tried\n",
    "#df.loc[:, 'value_sma_10'] = df.groupby(by='object')[['object', 'period']].rolling(window=10, min_periods=1, on='period').mean().reset_index(level='object')['value']"
   ]
  },
  {
   "cell_type": "code",
   "execution_count": null,
   "metadata": {},
   "outputs": [],
   "source": [
    "#found online, got it to work, but not quite applicable to this situation\n",
    "#span = 5\n",
    "#sma = d2.rolling(window=span, min_periods=span).mean()[:span]\n",
    "#rest = d2[span:]\n",
    "#pd.concat([sma, rest]).ewm(span=span, adjust=False).mean()"
   ]
  },
  {
   "cell_type": "code",
   "execution_count": null,
   "metadata": {},
   "outputs": [],
   "source": [
    "#didn't work - ValueError: cannot reindex from a duplicate axis\n",
    "#d2['eFg_rolling'] = d2.groupby(['team_season','game_num'])['eFg'].rolling(10).mean().droplevel(level=[0])"
   ]
  },
  {
   "cell_type": "code",
   "execution_count": null,
   "metadata": {},
   "outputs": [],
   "source": [
    "#df1 = d.copy()\n",
    "#df1"
   ]
  },
  {
   "cell_type": "code",
   "execution_count": null,
   "metadata": {},
   "outputs": [],
   "source": [
    "#df1 = d.groupby(['team_season','game_num']).rolling(5)['eFg'].mean().reset_index(drop=True)"
   ]
  },
  {
   "cell_type": "code",
   "execution_count": null,
   "metadata": {
    "scrolled": false
   },
   "outputs": [],
   "source": [
    "#df1['pace_rolling'] = d.groupby(['team_season','game_num'])[5:,'pace'].transform(lambda x: x.rolling(10, 10).mean())"
   ]
  },
  {
   "cell_type": "code",
   "execution_count": null,
   "metadata": {},
   "outputs": [],
   "source": []
  }
 ],
 "metadata": {
  "kernelspec": {
   "display_name": "Python [conda env:metis] *",
   "language": "python",
   "name": "conda-env-metis-py"
  },
  "language_info": {
   "codemirror_mode": {
    "name": "ipython",
    "version": 3
   },
   "file_extension": ".py",
   "mimetype": "text/x-python",
   "name": "python",
   "nbconvert_exporter": "python",
   "pygments_lexer": "ipython3",
   "version": "3.8.6"
  }
 },
 "nbformat": 4,
 "nbformat_minor": 4
}
